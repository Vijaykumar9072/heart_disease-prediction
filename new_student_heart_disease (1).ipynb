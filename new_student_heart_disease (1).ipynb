{
  "cells": [
    {
      "cell_type": "code",
      "execution_count": null,
      "metadata": {
        "colab": {
          "background_save": true
        },
        "id": "Fatu0A17qylp"
      },
      "outputs": [],
      "source": [
        "# Base Libraries\n",
        "import matplotlib.pyplot as plt\n",
        "import pandas as pd\n",
        "import numpy as np\n",
        "#from numpy import set_printoptions\n",
        "from numpy import mean\n",
        "from sklearn import linear_model\n",
        "import sys\n",
        "from termcolor import colored, cprint\n",
        "\n",
        "# Models\n",
        "from sklearn.model_selection import train_test_split\n",
        "from sklearn.neighbors import KNeighborsClassifier\n",
        "from sklearn.linear_model import LogisticRegression\n",
        "from sklearn.linear_model import LinearRegression\n",
        "from sklearn.ensemble import RandomForestClassifier\n",
        "from sklearn import svm\n",
        "from sklearn.tree import DecisionTreeClassifier\n",
        "from sklearn.naive_bayes import GaussianNB\n",
        "#from sklearn.ensemble import VotingClassifier\n",
        "#from sklearn.ensemble import StackingClassifier\n",
        "# Metrics\n",
        "from sklearn.metrics import accuracy_score\n",
        "from sklearn.metrics import roc_auc_score\n",
        "from sklearn.metrics import confusion_matrix\n",
        "from sklearn.metrics import classification_report\n",
        "from sklearn.metrics import mean_squared_error\n",
        "from sklearn.model_selection import cross_validate\n",
        "from sklearn.metrics import log_loss\n",
        "\n",
        "#import scikitplot as skplt\n"
      ]
    },
    {
      "cell_type": "code",
      "execution_count": null,
      "metadata": {
        "colab": {
          "background_save": true
        },
        "id": "FMcsBxMCzNJW",
        "outputId": "bb1c798d-27e0-4ae3-948f-259395424e98"
      },
      "outputs": [
        {
          "ename": "FileNotFoundError",
          "evalue": "ignored",
          "output_type": "error",
          "traceback": [
            "\u001b[0;31m---------------------------------------------------------------------------\u001b[0m",
            "\u001b[0;31mFileNotFoundError\u001b[0m                         Traceback (most recent call last)",
            "\u001b[0;32m<ipython-input-2-36229b1e31c0>\u001b[0m in \u001b[0;36m<cell line: 3>\u001b[0;34m()\u001b[0m\n\u001b[1;32m      1\u001b[0m \u001b[0;31m#preprocessing\u001b[0m\u001b[0;34m\u001b[0m\u001b[0;34m\u001b[0m\u001b[0m\n\u001b[1;32m      2\u001b[0m \u001b[0;31m#Read dataset\u001b[0m\u001b[0;34m\u001b[0m\u001b[0;34m\u001b[0m\u001b[0m\n\u001b[0;32m----> 3\u001b[0;31m \u001b[0mdf\u001b[0m\u001b[0;34m=\u001b[0m\u001b[0mpd\u001b[0m\u001b[0;34m.\u001b[0m\u001b[0mread_csv\u001b[0m\u001b[0;34m(\u001b[0m\u001b[0;34mr\"/content/Cardio_train.csv\"\u001b[0m\u001b[0;34m)\u001b[0m\u001b[0;34m\u001b[0m\u001b[0;34m\u001b[0m\u001b[0m\n\u001b[0m",
            "\u001b[0;32m/usr/local/lib/python3.10/dist-packages/pandas/util/_decorators.py\u001b[0m in \u001b[0;36mwrapper\u001b[0;34m(*args, **kwargs)\u001b[0m\n\u001b[1;32m    209\u001b[0m                 \u001b[0;32melse\u001b[0m\u001b[0;34m:\u001b[0m\u001b[0;34m\u001b[0m\u001b[0;34m\u001b[0m\u001b[0m\n\u001b[1;32m    210\u001b[0m                     \u001b[0mkwargs\u001b[0m\u001b[0;34m[\u001b[0m\u001b[0mnew_arg_name\u001b[0m\u001b[0;34m]\u001b[0m \u001b[0;34m=\u001b[0m \u001b[0mnew_arg_value\u001b[0m\u001b[0;34m\u001b[0m\u001b[0;34m\u001b[0m\u001b[0m\n\u001b[0;32m--> 211\u001b[0;31m             \u001b[0;32mreturn\u001b[0m \u001b[0mfunc\u001b[0m\u001b[0;34m(\u001b[0m\u001b[0;34m*\u001b[0m\u001b[0margs\u001b[0m\u001b[0;34m,\u001b[0m \u001b[0;34m**\u001b[0m\u001b[0mkwargs\u001b[0m\u001b[0;34m)\u001b[0m\u001b[0;34m\u001b[0m\u001b[0;34m\u001b[0m\u001b[0m\n\u001b[0m\u001b[1;32m    212\u001b[0m \u001b[0;34m\u001b[0m\u001b[0m\n\u001b[1;32m    213\u001b[0m         \u001b[0;32mreturn\u001b[0m \u001b[0mcast\u001b[0m\u001b[0;34m(\u001b[0m\u001b[0mF\u001b[0m\u001b[0;34m,\u001b[0m \u001b[0mwrapper\u001b[0m\u001b[0;34m)\u001b[0m\u001b[0;34m\u001b[0m\u001b[0;34m\u001b[0m\u001b[0m\n",
            "\u001b[0;32m/usr/local/lib/python3.10/dist-packages/pandas/util/_decorators.py\u001b[0m in \u001b[0;36mwrapper\u001b[0;34m(*args, **kwargs)\u001b[0m\n\u001b[1;32m    329\u001b[0m                     \u001b[0mstacklevel\u001b[0m\u001b[0;34m=\u001b[0m\u001b[0mfind_stack_level\u001b[0m\u001b[0;34m(\u001b[0m\u001b[0;34m)\u001b[0m\u001b[0;34m,\u001b[0m\u001b[0;34m\u001b[0m\u001b[0;34m\u001b[0m\u001b[0m\n\u001b[1;32m    330\u001b[0m                 )\n\u001b[0;32m--> 331\u001b[0;31m             \u001b[0;32mreturn\u001b[0m \u001b[0mfunc\u001b[0m\u001b[0;34m(\u001b[0m\u001b[0;34m*\u001b[0m\u001b[0margs\u001b[0m\u001b[0;34m,\u001b[0m \u001b[0;34m**\u001b[0m\u001b[0mkwargs\u001b[0m\u001b[0;34m)\u001b[0m\u001b[0;34m\u001b[0m\u001b[0;34m\u001b[0m\u001b[0m\n\u001b[0m\u001b[1;32m    332\u001b[0m \u001b[0;34m\u001b[0m\u001b[0m\n\u001b[1;32m    333\u001b[0m         \u001b[0;31m# error: \"Callable[[VarArg(Any), KwArg(Any)], Any]\" has no\u001b[0m\u001b[0;34m\u001b[0m\u001b[0;34m\u001b[0m\u001b[0m\n",
            "\u001b[0;32m/usr/local/lib/python3.10/dist-packages/pandas/io/parsers/readers.py\u001b[0m in \u001b[0;36mread_csv\u001b[0;34m(filepath_or_buffer, sep, delimiter, header, names, index_col, usecols, squeeze, prefix, mangle_dupe_cols, dtype, engine, converters, true_values, false_values, skipinitialspace, skiprows, skipfooter, nrows, na_values, keep_default_na, na_filter, verbose, skip_blank_lines, parse_dates, infer_datetime_format, keep_date_col, date_parser, dayfirst, cache_dates, iterator, chunksize, compression, thousands, decimal, lineterminator, quotechar, quoting, doublequote, escapechar, comment, encoding, encoding_errors, dialect, error_bad_lines, warn_bad_lines, on_bad_lines, delim_whitespace, low_memory, memory_map, float_precision, storage_options)\u001b[0m\n\u001b[1;32m    948\u001b[0m     \u001b[0mkwds\u001b[0m\u001b[0;34m.\u001b[0m\u001b[0mupdate\u001b[0m\u001b[0;34m(\u001b[0m\u001b[0mkwds_defaults\u001b[0m\u001b[0;34m)\u001b[0m\u001b[0;34m\u001b[0m\u001b[0;34m\u001b[0m\u001b[0m\n\u001b[1;32m    949\u001b[0m \u001b[0;34m\u001b[0m\u001b[0m\n\u001b[0;32m--> 950\u001b[0;31m     \u001b[0;32mreturn\u001b[0m \u001b[0m_read\u001b[0m\u001b[0;34m(\u001b[0m\u001b[0mfilepath_or_buffer\u001b[0m\u001b[0;34m,\u001b[0m \u001b[0mkwds\u001b[0m\u001b[0;34m)\u001b[0m\u001b[0;34m\u001b[0m\u001b[0;34m\u001b[0m\u001b[0m\n\u001b[0m\u001b[1;32m    951\u001b[0m \u001b[0;34m\u001b[0m\u001b[0m\n\u001b[1;32m    952\u001b[0m \u001b[0;34m\u001b[0m\u001b[0m\n",
            "\u001b[0;32m/usr/local/lib/python3.10/dist-packages/pandas/io/parsers/readers.py\u001b[0m in \u001b[0;36m_read\u001b[0;34m(filepath_or_buffer, kwds)\u001b[0m\n\u001b[1;32m    603\u001b[0m \u001b[0;34m\u001b[0m\u001b[0m\n\u001b[1;32m    604\u001b[0m     \u001b[0;31m# Create the parser.\u001b[0m\u001b[0;34m\u001b[0m\u001b[0;34m\u001b[0m\u001b[0m\n\u001b[0;32m--> 605\u001b[0;31m     \u001b[0mparser\u001b[0m \u001b[0;34m=\u001b[0m \u001b[0mTextFileReader\u001b[0m\u001b[0;34m(\u001b[0m\u001b[0mfilepath_or_buffer\u001b[0m\u001b[0;34m,\u001b[0m \u001b[0;34m**\u001b[0m\u001b[0mkwds\u001b[0m\u001b[0;34m)\u001b[0m\u001b[0;34m\u001b[0m\u001b[0;34m\u001b[0m\u001b[0m\n\u001b[0m\u001b[1;32m    606\u001b[0m \u001b[0;34m\u001b[0m\u001b[0m\n\u001b[1;32m    607\u001b[0m     \u001b[0;32mif\u001b[0m \u001b[0mchunksize\u001b[0m \u001b[0;32mor\u001b[0m \u001b[0miterator\u001b[0m\u001b[0;34m:\u001b[0m\u001b[0;34m\u001b[0m\u001b[0;34m\u001b[0m\u001b[0m\n",
            "\u001b[0;32m/usr/local/lib/python3.10/dist-packages/pandas/io/parsers/readers.py\u001b[0m in \u001b[0;36m__init__\u001b[0;34m(self, f, engine, **kwds)\u001b[0m\n\u001b[1;32m   1440\u001b[0m \u001b[0;34m\u001b[0m\u001b[0m\n\u001b[1;32m   1441\u001b[0m         \u001b[0mself\u001b[0m\u001b[0;34m.\u001b[0m\u001b[0mhandles\u001b[0m\u001b[0;34m:\u001b[0m \u001b[0mIOHandles\u001b[0m \u001b[0;34m|\u001b[0m \u001b[0;32mNone\u001b[0m \u001b[0;34m=\u001b[0m \u001b[0;32mNone\u001b[0m\u001b[0;34m\u001b[0m\u001b[0;34m\u001b[0m\u001b[0m\n\u001b[0;32m-> 1442\u001b[0;31m         \u001b[0mself\u001b[0m\u001b[0;34m.\u001b[0m\u001b[0m_engine\u001b[0m \u001b[0;34m=\u001b[0m \u001b[0mself\u001b[0m\u001b[0;34m.\u001b[0m\u001b[0m_make_engine\u001b[0m\u001b[0;34m(\u001b[0m\u001b[0mf\u001b[0m\u001b[0;34m,\u001b[0m \u001b[0mself\u001b[0m\u001b[0;34m.\u001b[0m\u001b[0mengine\u001b[0m\u001b[0;34m)\u001b[0m\u001b[0;34m\u001b[0m\u001b[0;34m\u001b[0m\u001b[0m\n\u001b[0m\u001b[1;32m   1443\u001b[0m \u001b[0;34m\u001b[0m\u001b[0m\n\u001b[1;32m   1444\u001b[0m     \u001b[0;32mdef\u001b[0m \u001b[0mclose\u001b[0m\u001b[0;34m(\u001b[0m\u001b[0mself\u001b[0m\u001b[0;34m)\u001b[0m \u001b[0;34m->\u001b[0m \u001b[0;32mNone\u001b[0m\u001b[0;34m:\u001b[0m\u001b[0;34m\u001b[0m\u001b[0;34m\u001b[0m\u001b[0m\n",
            "\u001b[0;32m/usr/local/lib/python3.10/dist-packages/pandas/io/parsers/readers.py\u001b[0m in \u001b[0;36m_make_engine\u001b[0;34m(self, f, engine)\u001b[0m\n\u001b[1;32m   1733\u001b[0m                 \u001b[0;32mif\u001b[0m \u001b[0;34m\"b\"\u001b[0m \u001b[0;32mnot\u001b[0m \u001b[0;32min\u001b[0m \u001b[0mmode\u001b[0m\u001b[0;34m:\u001b[0m\u001b[0;34m\u001b[0m\u001b[0;34m\u001b[0m\u001b[0m\n\u001b[1;32m   1734\u001b[0m                     \u001b[0mmode\u001b[0m \u001b[0;34m+=\u001b[0m \u001b[0;34m\"b\"\u001b[0m\u001b[0;34m\u001b[0m\u001b[0;34m\u001b[0m\u001b[0m\n\u001b[0;32m-> 1735\u001b[0;31m             self.handles = get_handle(\n\u001b[0m\u001b[1;32m   1736\u001b[0m                 \u001b[0mf\u001b[0m\u001b[0;34m,\u001b[0m\u001b[0;34m\u001b[0m\u001b[0;34m\u001b[0m\u001b[0m\n\u001b[1;32m   1737\u001b[0m                 \u001b[0mmode\u001b[0m\u001b[0;34m,\u001b[0m\u001b[0;34m\u001b[0m\u001b[0;34m\u001b[0m\u001b[0m\n",
            "\u001b[0;32m/usr/local/lib/python3.10/dist-packages/pandas/io/common.py\u001b[0m in \u001b[0;36mget_handle\u001b[0;34m(path_or_buf, mode, encoding, compression, memory_map, is_text, errors, storage_options)\u001b[0m\n\u001b[1;32m    854\u001b[0m         \u001b[0;32mif\u001b[0m \u001b[0mioargs\u001b[0m\u001b[0;34m.\u001b[0m\u001b[0mencoding\u001b[0m \u001b[0;32mand\u001b[0m \u001b[0;34m\"b\"\u001b[0m \u001b[0;32mnot\u001b[0m \u001b[0;32min\u001b[0m \u001b[0mioargs\u001b[0m\u001b[0;34m.\u001b[0m\u001b[0mmode\u001b[0m\u001b[0;34m:\u001b[0m\u001b[0;34m\u001b[0m\u001b[0;34m\u001b[0m\u001b[0m\n\u001b[1;32m    855\u001b[0m             \u001b[0;31m# Encoding\u001b[0m\u001b[0;34m\u001b[0m\u001b[0;34m\u001b[0m\u001b[0m\n\u001b[0;32m--> 856\u001b[0;31m             handle = open(\n\u001b[0m\u001b[1;32m    857\u001b[0m                 \u001b[0mhandle\u001b[0m\u001b[0;34m,\u001b[0m\u001b[0;34m\u001b[0m\u001b[0;34m\u001b[0m\u001b[0m\n\u001b[1;32m    858\u001b[0m                 \u001b[0mioargs\u001b[0m\u001b[0;34m.\u001b[0m\u001b[0mmode\u001b[0m\u001b[0;34m,\u001b[0m\u001b[0;34m\u001b[0m\u001b[0;34m\u001b[0m\u001b[0m\n",
            "\u001b[0;31mFileNotFoundError\u001b[0m: [Errno 2] No such file or directory: '/content/Cardio_train.csv'"
          ]
        }
      ],
      "source": [
        "#preprocessing\n",
        "#Read dataset\n",
        "df=pd.read_csv(r\"/content/Cardio_train.csv\")"
      ]
    },
    {
      "cell_type": "code",
      "execution_count": null,
      "metadata": {
        "colab": {
          "background_save": true
        },
        "id": "YUfQDyQtzxFs"
      },
      "outputs": [],
      "source": [
        "df.head() ## Print Top five row of the dataset."
      ]
    },
    {
      "cell_type": "code",
      "execution_count": null,
      "metadata": {
        "colab": {
          "base_uri": "https://localhost:8080/"
        },
        "id": "riHUl8KwqCKt",
        "outputId": "f8635275-6f6f-424d-d606-090f3588d3e0"
      },
      "outputs": [
        {
          "data": {
            "text/plain": [
              "(69999, 12)"
            ]
          },
          "execution_count": 4,
          "metadata": {},
          "output_type": "execute_result"
        }
      ],
      "source": [
        "df.shape"
      ]
    },
    {
      "cell_type": "code",
      "execution_count": null,
      "metadata": {
        "colab": {
          "base_uri": "https://localhost:8080/"
        },
        "id": "bJTM1POdjwj_",
        "outputId": "afed6160-219e-404e-b211-5af666603433"
      },
      "outputs": [
        {
          "data": {
            "text/plain": [
              "False"
            ]
          },
          "execution_count": 5,
          "metadata": {},
          "output_type": "execute_result"
        }
      ],
      "source": [
        "# check duplicate value in the dataset\n",
        "df.duplicated().any()"
      ]
    },
    {
      "cell_type": "code",
      "execution_count": null,
      "metadata": {
        "colab": {
          "base_uri": "https://localhost:8080/"
        },
        "id": "UXDWC_VG2VYT",
        "outputId": "03a0a828-e73e-4c3a-e604-8889a52f8e89"
      },
      "outputs": [
        {
          "data": {
            "text/plain": [
              "False"
            ]
          },
          "execution_count": 6,
          "metadata": {},
          "output_type": "execute_result"
        }
      ],
      "source": [
        "# check null value in the dataset\n",
        "df.isnull().values.any()# to find null value in creditcard dataset"
      ]
    },
    {
      "cell_type": "code",
      "execution_count": null,
      "metadata": {
        "colab": {
          "base_uri": "https://localhost:8080/"
        },
        "id": "k58rqQVSklIO",
        "outputId": "f6e507f2-e6b8-4c1f-b9c5-7ea7fa1eac7c"
      },
      "outputs": [
        {
          "data": {
            "text/plain": [
              "(69999, 12)"
            ]
          },
          "execution_count": 7,
          "metadata": {},
          "output_type": "execute_result"
        }
      ],
      "source": [
        "df.shape"
      ]
    },
    {
      "cell_type": "code",
      "execution_count": null,
      "metadata": {
        "id": "IGAa0V1klFyO"
      },
      "outputs": [],
      "source": [
        "#total number of duplecate value that is delete"
      ]
    },
    {
      "cell_type": "code",
      "execution_count": null,
      "metadata": {
        "colab": {
          "base_uri": "https://localhost:8080/"
        },
        "id": "B-RkFsumEiKt",
        "outputId": "1d126561-541a-43c6-df00-33857c16440a"
      },
      "outputs": [
        {
          "data": {
            "text/plain": [
              "0        18393\n",
              "1        20228\n",
              "2        18857\n",
              "3        17623\n",
              "4        17474\n",
              "         ...  \n",
              "69994    19240\n",
              "69995    22601\n",
              "69996    19066\n",
              "69997    22431\n",
              "69998    20540\n",
              "Name: age, Length: 69999, dtype: int64"
            ]
          },
          "execution_count": 9,
          "metadata": {},
          "output_type": "execute_result"
        }
      ],
      "source": [
        "df[\"age\"]"
      ]
    },
    {
      "cell_type": "code",
      "execution_count": null,
      "metadata": {
        "id": "LBWX2f992QYS"
      },
      "outputs": [],
      "source": []
    },
    {
      "cell_type": "code",
      "execution_count": null,
      "metadata": {
        "id": "Cv0WuvWhPxy5"
      },
      "outputs": [],
      "source": [
        "# convert age into years from days\n",
        "df[\"age\"]=(df[\"age\"]/365)"
      ]
    },
    {
      "cell_type": "code",
      "execution_count": null,
      "metadata": {
        "id": "sYiPD-sORVNc"
      },
      "outputs": [],
      "source": [
        "df[\"age\"] = df[\"age\"].astype(int)"
      ]
    },
    {
      "cell_type": "code",
      "execution_count": null,
      "metadata": {
        "colab": {
          "base_uri": "https://localhost:8080/"
        },
        "id": "ON_QoMLDO0Kk",
        "outputId": "c41786b2-1abe-49ff-f029-53cf1dd9dd28"
      },
      "outputs": [
        {
          "name": "stdout",
          "output_type": "stream",
          "text": [
            "<class 'pandas.core.frame.DataFrame'>\n",
            "RangeIndex: 69999 entries, 0 to 69998\n",
            "Data columns (total 12 columns):\n",
            " #   Column       Non-Null Count  Dtype  \n",
            "---  ------       --------------  -----  \n",
            " 0   age          69999 non-null  int64  \n",
            " 1   gender       69999 non-null  int64  \n",
            " 2   height       69999 non-null  int64  \n",
            " 3   weight       69999 non-null  float64\n",
            " 4   ap_lo        69999 non-null  int64  \n",
            " 5   ap_hi        69999 non-null  int64  \n",
            " 6   cholesterol  69999 non-null  int64  \n",
            " 7   gluc         69999 non-null  int64  \n",
            " 8   smoke        69999 non-null  int64  \n",
            " 9   alco         69999 non-null  int64  \n",
            " 10  active       69999 non-null  int64  \n",
            " 11  cardio       69999 non-null  int64  \n",
            "dtypes: float64(1), int64(11)\n",
            "memory usage: 6.4 MB\n"
          ]
        }
      ],
      "source": [
        "df.info()"
      ]
    },
    {
      "cell_type": "code",
      "execution_count": null,
      "metadata": {
        "colab": {
          "base_uri": "https://localhost:8080/",
          "height": 424
        },
        "id": "PL1TSIQ3Qdpw",
        "outputId": "b2b63f0e-6bf7-4c84-c021-868135259217"
      },
      "outputs": [
        {
          "data": {
            "text/html": [
              "\n",
              "  <div id=\"df-b4ae5116-420c-403b-a655-f8ab3e1dc6da\">\n",
              "    <div class=\"colab-df-container\">\n",
              "      <div>\n",
              "<style scoped>\n",
              "    .dataframe tbody tr th:only-of-type {\n",
              "        vertical-align: middle;\n",
              "    }\n",
              "\n",
              "    .dataframe tbody tr th {\n",
              "        vertical-align: top;\n",
              "    }\n",
              "\n",
              "    .dataframe thead th {\n",
              "        text-align: right;\n",
              "    }\n",
              "</style>\n",
              "<table border=\"1\" class=\"dataframe\">\n",
              "  <thead>\n",
              "    <tr style=\"text-align: right;\">\n",
              "      <th></th>\n",
              "      <th>age</th>\n",
              "      <th>gender</th>\n",
              "      <th>height</th>\n",
              "      <th>weight</th>\n",
              "      <th>ap_lo</th>\n",
              "      <th>ap_hi</th>\n",
              "      <th>cholesterol</th>\n",
              "      <th>gluc</th>\n",
              "      <th>smoke</th>\n",
              "      <th>alco</th>\n",
              "      <th>active</th>\n",
              "      <th>cardio</th>\n",
              "    </tr>\n",
              "  </thead>\n",
              "  <tbody>\n",
              "    <tr>\n",
              "      <th>0</th>\n",
              "      <td>50</td>\n",
              "      <td>2</td>\n",
              "      <td>168</td>\n",
              "      <td>62.0</td>\n",
              "      <td>78</td>\n",
              "      <td>120</td>\n",
              "      <td>1</td>\n",
              "      <td>1</td>\n",
              "      <td>0</td>\n",
              "      <td>0</td>\n",
              "      <td>1</td>\n",
              "      <td>0</td>\n",
              "    </tr>\n",
              "    <tr>\n",
              "      <th>1</th>\n",
              "      <td>55</td>\n",
              "      <td>1</td>\n",
              "      <td>156</td>\n",
              "      <td>85.0</td>\n",
              "      <td>90</td>\n",
              "      <td>140</td>\n",
              "      <td>3</td>\n",
              "      <td>1</td>\n",
              "      <td>1</td>\n",
              "      <td>0</td>\n",
              "      <td>1</td>\n",
              "      <td>1</td>\n",
              "    </tr>\n",
              "    <tr>\n",
              "      <th>2</th>\n",
              "      <td>51</td>\n",
              "      <td>1</td>\n",
              "      <td>165</td>\n",
              "      <td>64.0</td>\n",
              "      <td>70</td>\n",
              "      <td>130</td>\n",
              "      <td>3</td>\n",
              "      <td>1</td>\n",
              "      <td>1</td>\n",
              "      <td>0</td>\n",
              "      <td>0</td>\n",
              "      <td>1</td>\n",
              "    </tr>\n",
              "    <tr>\n",
              "      <th>3</th>\n",
              "      <td>48</td>\n",
              "      <td>1</td>\n",
              "      <td>169</td>\n",
              "      <td>82.0</td>\n",
              "      <td>100</td>\n",
              "      <td>150</td>\n",
              "      <td>3</td>\n",
              "      <td>1</td>\n",
              "      <td>1</td>\n",
              "      <td>0</td>\n",
              "      <td>1</td>\n",
              "      <td>1</td>\n",
              "    </tr>\n",
              "    <tr>\n",
              "      <th>4</th>\n",
              "      <td>47</td>\n",
              "      <td>1</td>\n",
              "      <td>156</td>\n",
              "      <td>56.0</td>\n",
              "      <td>60</td>\n",
              "      <td>100</td>\n",
              "      <td>3</td>\n",
              "      <td>1</td>\n",
              "      <td>1</td>\n",
              "      <td>0</td>\n",
              "      <td>0</td>\n",
              "      <td>1</td>\n",
              "    </tr>\n",
              "    <tr>\n",
              "      <th>...</th>\n",
              "      <td>...</td>\n",
              "      <td>...</td>\n",
              "      <td>...</td>\n",
              "      <td>...</td>\n",
              "      <td>...</td>\n",
              "      <td>...</td>\n",
              "      <td>...</td>\n",
              "      <td>...</td>\n",
              "      <td>...</td>\n",
              "      <td>...</td>\n",
              "      <td>...</td>\n",
              "      <td>...</td>\n",
              "    </tr>\n",
              "    <tr>\n",
              "      <th>69994</th>\n",
              "      <td>52</td>\n",
              "      <td>2</td>\n",
              "      <td>168</td>\n",
              "      <td>76.0</td>\n",
              "      <td>78</td>\n",
              "      <td>111</td>\n",
              "      <td>1</td>\n",
              "      <td>1</td>\n",
              "      <td>1</td>\n",
              "      <td>0</td>\n",
              "      <td>1</td>\n",
              "      <td>0</td>\n",
              "    </tr>\n",
              "    <tr>\n",
              "      <th>69995</th>\n",
              "      <td>61</td>\n",
              "      <td>1</td>\n",
              "      <td>158</td>\n",
              "      <td>126.0</td>\n",
              "      <td>90</td>\n",
              "      <td>123</td>\n",
              "      <td>2</td>\n",
              "      <td>2</td>\n",
              "      <td>0</td>\n",
              "      <td>0</td>\n",
              "      <td>1</td>\n",
              "      <td>1</td>\n",
              "    </tr>\n",
              "    <tr>\n",
              "      <th>69996</th>\n",
              "      <td>52</td>\n",
              "      <td>2</td>\n",
              "      <td>183</td>\n",
              "      <td>105.0</td>\n",
              "      <td>90</td>\n",
              "      <td>109</td>\n",
              "      <td>3</td>\n",
              "      <td>1</td>\n",
              "      <td>0</td>\n",
              "      <td>1</td>\n",
              "      <td>0</td>\n",
              "      <td>1</td>\n",
              "    </tr>\n",
              "    <tr>\n",
              "      <th>69997</th>\n",
              "      <td>61</td>\n",
              "      <td>1</td>\n",
              "      <td>163</td>\n",
              "      <td>72.0</td>\n",
              "      <td>80</td>\n",
              "      <td>105</td>\n",
              "      <td>1</td>\n",
              "      <td>2</td>\n",
              "      <td>0</td>\n",
              "      <td>0</td>\n",
              "      <td>0</td>\n",
              "      <td>1</td>\n",
              "    </tr>\n",
              "    <tr>\n",
              "      <th>69998</th>\n",
              "      <td>56</td>\n",
              "      <td>1</td>\n",
              "      <td>170</td>\n",
              "      <td>72.0</td>\n",
              "      <td>80</td>\n",
              "      <td>122</td>\n",
              "      <td>2</td>\n",
              "      <td>1</td>\n",
              "      <td>0</td>\n",
              "      <td>0</td>\n",
              "      <td>1</td>\n",
              "      <td>0</td>\n",
              "    </tr>\n",
              "  </tbody>\n",
              "</table>\n",
              "<p>69999 rows × 12 columns</p>\n",
              "</div>\n",
              "      <button class=\"colab-df-convert\" onclick=\"convertToInteractive('df-b4ae5116-420c-403b-a655-f8ab3e1dc6da')\"\n",
              "              title=\"Convert this dataframe to an interactive table.\"\n",
              "              style=\"display:none;\">\n",
              "        \n",
              "  <svg xmlns=\"http://www.w3.org/2000/svg\" height=\"24px\"viewBox=\"0 0 24 24\"\n",
              "       width=\"24px\">\n",
              "    <path d=\"M0 0h24v24H0V0z\" fill=\"none\"/>\n",
              "    <path d=\"M18.56 5.44l.94 2.06.94-2.06 2.06-.94-2.06-.94-.94-2.06-.94 2.06-2.06.94zm-11 1L8.5 8.5l.94-2.06 2.06-.94-2.06-.94L8.5 2.5l-.94 2.06-2.06.94zm10 10l.94 2.06.94-2.06 2.06-.94-2.06-.94-.94-2.06-.94 2.06-2.06.94z\"/><path d=\"M17.41 7.96l-1.37-1.37c-.4-.4-.92-.59-1.43-.59-.52 0-1.04.2-1.43.59L10.3 9.45l-7.72 7.72c-.78.78-.78 2.05 0 2.83L4 21.41c.39.39.9.59 1.41.59.51 0 1.02-.2 1.41-.59l7.78-7.78 2.81-2.81c.8-.78.8-2.07 0-2.86zM5.41 20L4 18.59l7.72-7.72 1.47 1.35L5.41 20z\"/>\n",
              "  </svg>\n",
              "      </button>\n",
              "      \n",
              "  <style>\n",
              "    .colab-df-container {\n",
              "      display:flex;\n",
              "      flex-wrap:wrap;\n",
              "      gap: 12px;\n",
              "    }\n",
              "\n",
              "    .colab-df-convert {\n",
              "      background-color: #E8F0FE;\n",
              "      border: none;\n",
              "      border-radius: 50%;\n",
              "      cursor: pointer;\n",
              "      display: none;\n",
              "      fill: #1967D2;\n",
              "      height: 32px;\n",
              "      padding: 0 0 0 0;\n",
              "      width: 32px;\n",
              "    }\n",
              "\n",
              "    .colab-df-convert:hover {\n",
              "      background-color: #E2EBFA;\n",
              "      box-shadow: 0px 1px 2px rgba(60, 64, 67, 0.3), 0px 1px 3px 1px rgba(60, 64, 67, 0.15);\n",
              "      fill: #174EA6;\n",
              "    }\n",
              "\n",
              "    [theme=dark] .colab-df-convert {\n",
              "      background-color: #3B4455;\n",
              "      fill: #D2E3FC;\n",
              "    }\n",
              "\n",
              "    [theme=dark] .colab-df-convert:hover {\n",
              "      background-color: #434B5C;\n",
              "      box-shadow: 0px 1px 3px 1px rgba(0, 0, 0, 0.15);\n",
              "      filter: drop-shadow(0px 1px 2px rgba(0, 0, 0, 0.3));\n",
              "      fill: #FFFFFF;\n",
              "    }\n",
              "  </style>\n",
              "\n",
              "      <script>\n",
              "        const buttonEl =\n",
              "          document.querySelector('#df-b4ae5116-420c-403b-a655-f8ab3e1dc6da button.colab-df-convert');\n",
              "        buttonEl.style.display =\n",
              "          google.colab.kernel.accessAllowed ? 'block' : 'none';\n",
              "\n",
              "        async function convertToInteractive(key) {\n",
              "          const element = document.querySelector('#df-b4ae5116-420c-403b-a655-f8ab3e1dc6da');\n",
              "          const dataTable =\n",
              "            await google.colab.kernel.invokeFunction('convertToInteractive',\n",
              "                                                     [key], {});\n",
              "          if (!dataTable) return;\n",
              "\n",
              "          const docLinkHtml = 'Like what you see? Visit the ' +\n",
              "            '<a target=\"_blank\" href=https://colab.research.google.com/notebooks/data_table.ipynb>data table notebook</a>'\n",
              "            + ' to learn more about interactive tables.';\n",
              "          element.innerHTML = '';\n",
              "          dataTable['output_type'] = 'display_data';\n",
              "          await google.colab.output.renderOutput(dataTable, element);\n",
              "          const docLink = document.createElement('div');\n",
              "          docLink.innerHTML = docLinkHtml;\n",
              "          element.appendChild(docLink);\n",
              "        }\n",
              "      </script>\n",
              "    </div>\n",
              "  </div>\n",
              "  "
            ],
            "text/plain": [
              "       age  gender  height  weight  ap_lo  ap_hi  cholesterol  gluc  smoke  \\\n",
              "0       50       2     168    62.0     78    120            1     1      0   \n",
              "1       55       1     156    85.0     90    140            3     1      1   \n",
              "2       51       1     165    64.0     70    130            3     1      1   \n",
              "3       48       1     169    82.0    100    150            3     1      1   \n",
              "4       47       1     156    56.0     60    100            3     1      1   \n",
              "...    ...     ...     ...     ...    ...    ...          ...   ...    ...   \n",
              "69994   52       2     168    76.0     78    111            1     1      1   \n",
              "69995   61       1     158   126.0     90    123            2     2      0   \n",
              "69996   52       2     183   105.0     90    109            3     1      0   \n",
              "69997   61       1     163    72.0     80    105            1     2      0   \n",
              "69998   56       1     170    72.0     80    122            2     1      0   \n",
              "\n",
              "       alco  active  cardio  \n",
              "0         0       1       0  \n",
              "1         0       1       1  \n",
              "2         0       0       1  \n",
              "3         0       1       1  \n",
              "4         0       0       1  \n",
              "...     ...     ...     ...  \n",
              "69994     0       1       0  \n",
              "69995     0       1       1  \n",
              "69996     1       0       1  \n",
              "69997     0       0       1  \n",
              "69998     0       1       0  \n",
              "\n",
              "[69999 rows x 12 columns]"
            ]
          },
          "execution_count": 13,
          "metadata": {},
          "output_type": "execute_result"
        }
      ],
      "source": [
        "df"
      ]
    },
    {
      "cell_type": "code",
      "execution_count": null,
      "metadata": {
        "colab": {
          "base_uri": "https://localhost:8080/",
          "height": 300
        },
        "id": "cgAsWpf_0C4A",
        "outputId": "decbd2d8-a344-470b-a8dd-7e25ee51559a"
      },
      "outputs": [
        {
          "data": {
            "text/html": [
              "\n",
              "  <div id=\"df-95bdccb4-41b1-45d6-b579-854b649fb8f0\">\n",
              "    <div class=\"colab-df-container\">\n",
              "      <div>\n",
              "<style scoped>\n",
              "    .dataframe tbody tr th:only-of-type {\n",
              "        vertical-align: middle;\n",
              "    }\n",
              "\n",
              "    .dataframe tbody tr th {\n",
              "        vertical-align: top;\n",
              "    }\n",
              "\n",
              "    .dataframe thead th {\n",
              "        text-align: right;\n",
              "    }\n",
              "</style>\n",
              "<table border=\"1\" class=\"dataframe\">\n",
              "  <thead>\n",
              "    <tr style=\"text-align: right;\">\n",
              "      <th></th>\n",
              "      <th>age</th>\n",
              "      <th>gender</th>\n",
              "      <th>height</th>\n",
              "      <th>weight</th>\n",
              "      <th>ap_lo</th>\n",
              "      <th>ap_hi</th>\n",
              "      <th>cholesterol</th>\n",
              "      <th>gluc</th>\n",
              "      <th>smoke</th>\n",
              "      <th>alco</th>\n",
              "      <th>active</th>\n",
              "      <th>cardio</th>\n",
              "    </tr>\n",
              "  </thead>\n",
              "  <tbody>\n",
              "    <tr>\n",
              "      <th>count</th>\n",
              "      <td>69999.000000</td>\n",
              "      <td>69999.000000</td>\n",
              "      <td>69999.000000</td>\n",
              "      <td>69999.000000</td>\n",
              "      <td>69999.000000</td>\n",
              "      <td>69999.000000</td>\n",
              "      <td>69999.000000</td>\n",
              "      <td>69999.000000</td>\n",
              "      <td>69999.000000</td>\n",
              "      <td>69999.000000</td>\n",
              "      <td>69999.000000</td>\n",
              "      <td>69999.000000</td>\n",
              "    </tr>\n",
              "    <tr>\n",
              "      <th>mean</th>\n",
              "      <td>52.840598</td>\n",
              "      <td>1.347534</td>\n",
              "      <td>164.359277</td>\n",
              "      <td>74.205893</td>\n",
              "      <td>94.249075</td>\n",
              "      <td>112.511093</td>\n",
              "      <td>1.374591</td>\n",
              "      <td>1.100273</td>\n",
              "      <td>0.239975</td>\n",
              "      <td>0.053786</td>\n",
              "      <td>0.802497</td>\n",
              "      <td>0.501936</td>\n",
              "    </tr>\n",
              "    <tr>\n",
              "      <th>std</th>\n",
              "      <td>6.766794</td>\n",
              "      <td>0.476190</td>\n",
              "      <td>8.210140</td>\n",
              "      <td>14.395759</td>\n",
              "      <td>154.674388</td>\n",
              "      <td>7.519033</td>\n",
              "      <td>0.687872</td>\n",
              "      <td>0.637495</td>\n",
              "      <td>0.427071</td>\n",
              "      <td>0.225597</td>\n",
              "      <td>0.398118</td>\n",
              "      <td>0.500000</td>\n",
              "    </tr>\n",
              "    <tr>\n",
              "      <th>min</th>\n",
              "      <td>29.000000</td>\n",
              "      <td>1.000000</td>\n",
              "      <td>55.000000</td>\n",
              "      <td>10.000000</td>\n",
              "      <td>-70.000000</td>\n",
              "      <td>100.000000</td>\n",
              "      <td>1.000000</td>\n",
              "      <td>0.000000</td>\n",
              "      <td>0.000000</td>\n",
              "      <td>0.000000</td>\n",
              "      <td>0.000000</td>\n",
              "      <td>0.000000</td>\n",
              "    </tr>\n",
              "    <tr>\n",
              "      <th>25%</th>\n",
              "      <td>48.000000</td>\n",
              "      <td>1.000000</td>\n",
              "      <td>159.000000</td>\n",
              "      <td>65.000000</td>\n",
              "      <td>79.000000</td>\n",
              "      <td>106.000000</td>\n",
              "      <td>1.000000</td>\n",
              "      <td>1.000000</td>\n",
              "      <td>0.000000</td>\n",
              "      <td>0.000000</td>\n",
              "      <td>1.000000</td>\n",
              "      <td>0.000000</td>\n",
              "    </tr>\n",
              "    <tr>\n",
              "      <th>50%</th>\n",
              "      <td>53.000000</td>\n",
              "      <td>1.000000</td>\n",
              "      <td>165.000000</td>\n",
              "      <td>72.000000</td>\n",
              "      <td>80.000000</td>\n",
              "      <td>113.000000</td>\n",
              "      <td>1.000000</td>\n",
              "      <td>1.000000</td>\n",
              "      <td>0.000000</td>\n",
              "      <td>0.000000</td>\n",
              "      <td>1.000000</td>\n",
              "      <td>1.000000</td>\n",
              "    </tr>\n",
              "    <tr>\n",
              "      <th>75%</th>\n",
              "      <td>58.000000</td>\n",
              "      <td>2.000000</td>\n",
              "      <td>170.000000</td>\n",
              "      <td>82.000000</td>\n",
              "      <td>81.000000</td>\n",
              "      <td>119.000000</td>\n",
              "      <td>2.000000</td>\n",
              "      <td>1.000000</td>\n",
              "      <td>0.000000</td>\n",
              "      <td>0.000000</td>\n",
              "      <td>1.000000</td>\n",
              "      <td>1.000000</td>\n",
              "    </tr>\n",
              "    <tr>\n",
              "      <th>max</th>\n",
              "      <td>64.000000</td>\n",
              "      <td>2.000000</td>\n",
              "      <td>250.000000</td>\n",
              "      <td>200.000000</td>\n",
              "      <td>11000.000000</td>\n",
              "      <td>150.000000</td>\n",
              "      <td>3.000000</td>\n",
              "      <td>3.000000</td>\n",
              "      <td>1.000000</td>\n",
              "      <td>1.000000</td>\n",
              "      <td>1.000000</td>\n",
              "      <td>1.000000</td>\n",
              "    </tr>\n",
              "  </tbody>\n",
              "</table>\n",
              "</div>\n",
              "      <button class=\"colab-df-convert\" onclick=\"convertToInteractive('df-95bdccb4-41b1-45d6-b579-854b649fb8f0')\"\n",
              "              title=\"Convert this dataframe to an interactive table.\"\n",
              "              style=\"display:none;\">\n",
              "        \n",
              "  <svg xmlns=\"http://www.w3.org/2000/svg\" height=\"24px\"viewBox=\"0 0 24 24\"\n",
              "       width=\"24px\">\n",
              "    <path d=\"M0 0h24v24H0V0z\" fill=\"none\"/>\n",
              "    <path d=\"M18.56 5.44l.94 2.06.94-2.06 2.06-.94-2.06-.94-.94-2.06-.94 2.06-2.06.94zm-11 1L8.5 8.5l.94-2.06 2.06-.94-2.06-.94L8.5 2.5l-.94 2.06-2.06.94zm10 10l.94 2.06.94-2.06 2.06-.94-2.06-.94-.94-2.06-.94 2.06-2.06.94z\"/><path d=\"M17.41 7.96l-1.37-1.37c-.4-.4-.92-.59-1.43-.59-.52 0-1.04.2-1.43.59L10.3 9.45l-7.72 7.72c-.78.78-.78 2.05 0 2.83L4 21.41c.39.39.9.59 1.41.59.51 0 1.02-.2 1.41-.59l7.78-7.78 2.81-2.81c.8-.78.8-2.07 0-2.86zM5.41 20L4 18.59l7.72-7.72 1.47 1.35L5.41 20z\"/>\n",
              "  </svg>\n",
              "      </button>\n",
              "      \n",
              "  <style>\n",
              "    .colab-df-container {\n",
              "      display:flex;\n",
              "      flex-wrap:wrap;\n",
              "      gap: 12px;\n",
              "    }\n",
              "\n",
              "    .colab-df-convert {\n",
              "      background-color: #E8F0FE;\n",
              "      border: none;\n",
              "      border-radius: 50%;\n",
              "      cursor: pointer;\n",
              "      display: none;\n",
              "      fill: #1967D2;\n",
              "      height: 32px;\n",
              "      padding: 0 0 0 0;\n",
              "      width: 32px;\n",
              "    }\n",
              "\n",
              "    .colab-df-convert:hover {\n",
              "      background-color: #E2EBFA;\n",
              "      box-shadow: 0px 1px 2px rgba(60, 64, 67, 0.3), 0px 1px 3px 1px rgba(60, 64, 67, 0.15);\n",
              "      fill: #174EA6;\n",
              "    }\n",
              "\n",
              "    [theme=dark] .colab-df-convert {\n",
              "      background-color: #3B4455;\n",
              "      fill: #D2E3FC;\n",
              "    }\n",
              "\n",
              "    [theme=dark] .colab-df-convert:hover {\n",
              "      background-color: #434B5C;\n",
              "      box-shadow: 0px 1px 3px 1px rgba(0, 0, 0, 0.15);\n",
              "      filter: drop-shadow(0px 1px 2px rgba(0, 0, 0, 0.3));\n",
              "      fill: #FFFFFF;\n",
              "    }\n",
              "  </style>\n",
              "\n",
              "      <script>\n",
              "        const buttonEl =\n",
              "          document.querySelector('#df-95bdccb4-41b1-45d6-b579-854b649fb8f0 button.colab-df-convert');\n",
              "        buttonEl.style.display =\n",
              "          google.colab.kernel.accessAllowed ? 'block' : 'none';\n",
              "\n",
              "        async function convertToInteractive(key) {\n",
              "          const element = document.querySelector('#df-95bdccb4-41b1-45d6-b579-854b649fb8f0');\n",
              "          const dataTable =\n",
              "            await google.colab.kernel.invokeFunction('convertToInteractive',\n",
              "                                                     [key], {});\n",
              "          if (!dataTable) return;\n",
              "\n",
              "          const docLinkHtml = 'Like what you see? Visit the ' +\n",
              "            '<a target=\"_blank\" href=https://colab.research.google.com/notebooks/data_table.ipynb>data table notebook</a>'\n",
              "            + ' to learn more about interactive tables.';\n",
              "          element.innerHTML = '';\n",
              "          dataTable['output_type'] = 'display_data';\n",
              "          await google.colab.output.renderOutput(dataTable, element);\n",
              "          const docLink = document.createElement('div');\n",
              "          docLink.innerHTML = docLinkHtml;\n",
              "          element.appendChild(docLink);\n",
              "        }\n",
              "      </script>\n",
              "    </div>\n",
              "  </div>\n",
              "  "
            ],
            "text/plain": [
              "                age        gender        height        weight         ap_lo  \\\n",
              "count  69999.000000  69999.000000  69999.000000  69999.000000  69999.000000   \n",
              "mean      52.840598      1.347534    164.359277     74.205893     94.249075   \n",
              "std        6.766794      0.476190      8.210140     14.395759    154.674388   \n",
              "min       29.000000      1.000000     55.000000     10.000000    -70.000000   \n",
              "25%       48.000000      1.000000    159.000000     65.000000     79.000000   \n",
              "50%       53.000000      1.000000    165.000000     72.000000     80.000000   \n",
              "75%       58.000000      2.000000    170.000000     82.000000     81.000000   \n",
              "max       64.000000      2.000000    250.000000    200.000000  11000.000000   \n",
              "\n",
              "              ap_hi   cholesterol          gluc         smoke          alco  \\\n",
              "count  69999.000000  69999.000000  69999.000000  69999.000000  69999.000000   \n",
              "mean     112.511093      1.374591      1.100273      0.239975      0.053786   \n",
              "std        7.519033      0.687872      0.637495      0.427071      0.225597   \n",
              "min      100.000000      1.000000      0.000000      0.000000      0.000000   \n",
              "25%      106.000000      1.000000      1.000000      0.000000      0.000000   \n",
              "50%      113.000000      1.000000      1.000000      0.000000      0.000000   \n",
              "75%      119.000000      2.000000      1.000000      0.000000      0.000000   \n",
              "max      150.000000      3.000000      3.000000      1.000000      1.000000   \n",
              "\n",
              "             active        cardio  \n",
              "count  69999.000000  69999.000000  \n",
              "mean       0.802497      0.501936  \n",
              "std        0.398118      0.500000  \n",
              "min        0.000000      0.000000  \n",
              "25%        1.000000      0.000000  \n",
              "50%        1.000000      1.000000  \n",
              "75%        1.000000      1.000000  \n",
              "max        1.000000      1.000000  "
            ]
          },
          "execution_count": 14,
          "metadata": {},
          "output_type": "execute_result"
        }
      ],
      "source": [
        "df.describe()"
      ]
    },
    {
      "cell_type": "code",
      "execution_count": null,
      "metadata": {
        "colab": {
          "base_uri": "https://localhost:8080/"
        },
        "id": "dJeIUsF-tHrD",
        "outputId": "49e9895e-2e3a-4012-ecf8-4829b0af364b"
      },
      "outputs": [
        {
          "name": "stdout",
          "output_type": "stream",
          "text": [
            "age               4\n",
            "gender            0\n",
            "height          293\n",
            "weight          702\n",
            "ap_lo           804\n",
            "ap_hi             6\n",
            "cholesterol       0\n",
            "gluc              0\n",
            "smoke             0\n",
            "alco           3765\n",
            "active            0\n",
            "cardio            0\n",
            "dtype: int64\n"
          ]
        }
      ],
      "source": [
        "z=(df-df.mean())/df.std()  #to check outlayers i each feATURE\n",
        "t=3\n",
        "o=np.abs(z)>t  #ABOSULTE VALUE\n",
        "print(o.sum())"
      ]
    },
    {
      "cell_type": "code",
      "execution_count": null,
      "metadata": {
        "colab": {
          "base_uri": "https://localhost:8080/"
        },
        "id": "3ytnR_EItSVE",
        "outputId": "eb4f1c46-dcd5-4489-850c-b236083a4657"
      },
      "outputs": [
        {
          "name": "stdout",
          "output_type": "stream",
          "text": [
            "Highest allowed 188.9896977335207\n",
            "Lowest allowed 139.72885538866677\n"
          ]
        }
      ],
      "source": [
        "#outlier handing for heights\n",
        "print(\"Highest allowed\",df['height'].mean() + 3*df['height'].std()) #IF DEPENDS HOW THE RANGE IS REFLECTED LIKE WHAT VALUES WE WANT FOR OUTLINER.\n",
        "print(\"Lowest allowed\",df['height'].mean() - 3*df['height'].std())\n",
        "\n",
        "\n"
      ]
    },
    {
      "cell_type": "code",
      "execution_count": null,
      "metadata": {
        "colab": {
          "base_uri": "https://localhost:8080/",
          "height": 424
        },
        "id": "ASJsgjDUtUIg",
        "outputId": "e7e10c0d-ba17-4ba6-93fd-17bc4384b7e1"
      },
      "outputs": [
        {
          "data": {
            "text/html": [
              "\n",
              "  <div id=\"df-7af5239c-53dc-4da7-b7f5-e3229a6d8f1e\">\n",
              "    <div class=\"colab-df-container\">\n",
              "      <div>\n",
              "<style scoped>\n",
              "    .dataframe tbody tr th:only-of-type {\n",
              "        vertical-align: middle;\n",
              "    }\n",
              "\n",
              "    .dataframe tbody tr th {\n",
              "        vertical-align: top;\n",
              "    }\n",
              "\n",
              "    .dataframe thead th {\n",
              "        text-align: right;\n",
              "    }\n",
              "</style>\n",
              "<table border=\"1\" class=\"dataframe\">\n",
              "  <thead>\n",
              "    <tr style=\"text-align: right;\">\n",
              "      <th></th>\n",
              "      <th>age</th>\n",
              "      <th>gender</th>\n",
              "      <th>height</th>\n",
              "      <th>weight</th>\n",
              "      <th>ap_lo</th>\n",
              "      <th>ap_hi</th>\n",
              "      <th>cholesterol</th>\n",
              "      <th>gluc</th>\n",
              "      <th>smoke</th>\n",
              "      <th>alco</th>\n",
              "      <th>active</th>\n",
              "      <th>cardio</th>\n",
              "    </tr>\n",
              "  </thead>\n",
              "  <tbody>\n",
              "    <tr>\n",
              "      <th>224</th>\n",
              "      <td>59</td>\n",
              "      <td>1</td>\n",
              "      <td>76</td>\n",
              "      <td>55.0</td>\n",
              "      <td>80</td>\n",
              "      <td>105</td>\n",
              "      <td>3</td>\n",
              "      <td>2</td>\n",
              "      <td>1</td>\n",
              "      <td>0</td>\n",
              "      <td>1</td>\n",
              "      <td>1</td>\n",
              "    </tr>\n",
              "    <tr>\n",
              "      <th>1027</th>\n",
              "      <td>41</td>\n",
              "      <td>2</td>\n",
              "      <td>195</td>\n",
              "      <td>111.0</td>\n",
              "      <td>86</td>\n",
              "      <td>120</td>\n",
              "      <td>1</td>\n",
              "      <td>1</td>\n",
              "      <td>1</td>\n",
              "      <td>0</td>\n",
              "      <td>1</td>\n",
              "      <td>1</td>\n",
              "    </tr>\n",
              "    <tr>\n",
              "      <th>1117</th>\n",
              "      <td>60</td>\n",
              "      <td>2</td>\n",
              "      <td>198</td>\n",
              "      <td>68.0</td>\n",
              "      <td>80</td>\n",
              "      <td>118</td>\n",
              "      <td>1</td>\n",
              "      <td>1</td>\n",
              "      <td>1</td>\n",
              "      <td>0</td>\n",
              "      <td>1</td>\n",
              "      <td>1</td>\n",
              "    </tr>\n",
              "    <tr>\n",
              "      <th>2160</th>\n",
              "      <td>44</td>\n",
              "      <td>2</td>\n",
              "      <td>196</td>\n",
              "      <td>74.0</td>\n",
              "      <td>90</td>\n",
              "      <td>113</td>\n",
              "      <td>1</td>\n",
              "      <td>1</td>\n",
              "      <td>1</td>\n",
              "      <td>1</td>\n",
              "      <td>1</td>\n",
              "      <td>1</td>\n",
              "    </tr>\n",
              "    <tr>\n",
              "      <th>2412</th>\n",
              "      <td>61</td>\n",
              "      <td>2</td>\n",
              "      <td>138</td>\n",
              "      <td>52.0</td>\n",
              "      <td>100</td>\n",
              "      <td>115</td>\n",
              "      <td>1</td>\n",
              "      <td>1</td>\n",
              "      <td>0</td>\n",
              "      <td>0</td>\n",
              "      <td>1</td>\n",
              "      <td>1</td>\n",
              "    </tr>\n",
              "    <tr>\n",
              "      <th>...</th>\n",
              "      <td>...</td>\n",
              "      <td>...</td>\n",
              "      <td>...</td>\n",
              "      <td>...</td>\n",
              "      <td>...</td>\n",
              "      <td>...</td>\n",
              "      <td>...</td>\n",
              "      <td>...</td>\n",
              "      <td>...</td>\n",
              "      <td>...</td>\n",
              "      <td>...</td>\n",
              "      <td>...</td>\n",
              "    </tr>\n",
              "    <tr>\n",
              "      <th>67971</th>\n",
              "      <td>59</td>\n",
              "      <td>2</td>\n",
              "      <td>195</td>\n",
              "      <td>90.0</td>\n",
              "      <td>80</td>\n",
              "      <td>120</td>\n",
              "      <td>1</td>\n",
              "      <td>1</td>\n",
              "      <td>0</td>\n",
              "      <td>0</td>\n",
              "      <td>0</td>\n",
              "      <td>0</td>\n",
              "    </tr>\n",
              "    <tr>\n",
              "      <th>69051</th>\n",
              "      <td>55</td>\n",
              "      <td>2</td>\n",
              "      <td>120</td>\n",
              "      <td>80.0</td>\n",
              "      <td>90</td>\n",
              "      <td>100</td>\n",
              "      <td>1</td>\n",
              "      <td>2</td>\n",
              "      <td>0</td>\n",
              "      <td>0</td>\n",
              "      <td>1</td>\n",
              "      <td>1</td>\n",
              "    </tr>\n",
              "    <tr>\n",
              "      <th>69123</th>\n",
              "      <td>43</td>\n",
              "      <td>2</td>\n",
              "      <td>138</td>\n",
              "      <td>60.0</td>\n",
              "      <td>79</td>\n",
              "      <td>114</td>\n",
              "      <td>1</td>\n",
              "      <td>1</td>\n",
              "      <td>0</td>\n",
              "      <td>0</td>\n",
              "      <td>0</td>\n",
              "      <td>0</td>\n",
              "    </tr>\n",
              "    <tr>\n",
              "      <th>69215</th>\n",
              "      <td>60</td>\n",
              "      <td>1</td>\n",
              "      <td>190</td>\n",
              "      <td>87.0</td>\n",
              "      <td>79</td>\n",
              "      <td>100</td>\n",
              "      <td>1</td>\n",
              "      <td>1</td>\n",
              "      <td>0</td>\n",
              "      <td>0</td>\n",
              "      <td>0</td>\n",
              "      <td>0</td>\n",
              "    </tr>\n",
              "    <tr>\n",
              "      <th>69588</th>\n",
              "      <td>50</td>\n",
              "      <td>2</td>\n",
              "      <td>192</td>\n",
              "      <td>83.0</td>\n",
              "      <td>79</td>\n",
              "      <td>100</td>\n",
              "      <td>1</td>\n",
              "      <td>1</td>\n",
              "      <td>0</td>\n",
              "      <td>1</td>\n",
              "      <td>0</td>\n",
              "      <td>0</td>\n",
              "    </tr>\n",
              "  </tbody>\n",
              "</table>\n",
              "<p>257 rows × 12 columns</p>\n",
              "</div>\n",
              "      <button class=\"colab-df-convert\" onclick=\"convertToInteractive('df-7af5239c-53dc-4da7-b7f5-e3229a6d8f1e')\"\n",
              "              title=\"Convert this dataframe to an interactive table.\"\n",
              "              style=\"display:none;\">\n",
              "        \n",
              "  <svg xmlns=\"http://www.w3.org/2000/svg\" height=\"24px\"viewBox=\"0 0 24 24\"\n",
              "       width=\"24px\">\n",
              "    <path d=\"M0 0h24v24H0V0z\" fill=\"none\"/>\n",
              "    <path d=\"M18.56 5.44l.94 2.06.94-2.06 2.06-.94-2.06-.94-.94-2.06-.94 2.06-2.06.94zm-11 1L8.5 8.5l.94-2.06 2.06-.94-2.06-.94L8.5 2.5l-.94 2.06-2.06.94zm10 10l.94 2.06.94-2.06 2.06-.94-2.06-.94-.94-2.06-.94 2.06-2.06.94z\"/><path d=\"M17.41 7.96l-1.37-1.37c-.4-.4-.92-.59-1.43-.59-.52 0-1.04.2-1.43.59L10.3 9.45l-7.72 7.72c-.78.78-.78 2.05 0 2.83L4 21.41c.39.39.9.59 1.41.59.51 0 1.02-.2 1.41-.59l7.78-7.78 2.81-2.81c.8-.78.8-2.07 0-2.86zM5.41 20L4 18.59l7.72-7.72 1.47 1.35L5.41 20z\"/>\n",
              "  </svg>\n",
              "      </button>\n",
              "      \n",
              "  <style>\n",
              "    .colab-df-container {\n",
              "      display:flex;\n",
              "      flex-wrap:wrap;\n",
              "      gap: 12px;\n",
              "    }\n",
              "\n",
              "    .colab-df-convert {\n",
              "      background-color: #E8F0FE;\n",
              "      border: none;\n",
              "      border-radius: 50%;\n",
              "      cursor: pointer;\n",
              "      display: none;\n",
              "      fill: #1967D2;\n",
              "      height: 32px;\n",
              "      padding: 0 0 0 0;\n",
              "      width: 32px;\n",
              "    }\n",
              "\n",
              "    .colab-df-convert:hover {\n",
              "      background-color: #E2EBFA;\n",
              "      box-shadow: 0px 1px 2px rgba(60, 64, 67, 0.3), 0px 1px 3px 1px rgba(60, 64, 67, 0.15);\n",
              "      fill: #174EA6;\n",
              "    }\n",
              "\n",
              "    [theme=dark] .colab-df-convert {\n",
              "      background-color: #3B4455;\n",
              "      fill: #D2E3FC;\n",
              "    }\n",
              "\n",
              "    [theme=dark] .colab-df-convert:hover {\n",
              "      background-color: #434B5C;\n",
              "      box-shadow: 0px 1px 3px 1px rgba(0, 0, 0, 0.15);\n",
              "      filter: drop-shadow(0px 1px 2px rgba(0, 0, 0, 0.3));\n",
              "      fill: #FFFFFF;\n",
              "    }\n",
              "  </style>\n",
              "\n",
              "      <script>\n",
              "        const buttonEl =\n",
              "          document.querySelector('#df-7af5239c-53dc-4da7-b7f5-e3229a6d8f1e button.colab-df-convert');\n",
              "        buttonEl.style.display =\n",
              "          google.colab.kernel.accessAllowed ? 'block' : 'none';\n",
              "\n",
              "        async function convertToInteractive(key) {\n",
              "          const element = document.querySelector('#df-7af5239c-53dc-4da7-b7f5-e3229a6d8f1e');\n",
              "          const dataTable =\n",
              "            await google.colab.kernel.invokeFunction('convertToInteractive',\n",
              "                                                     [key], {});\n",
              "          if (!dataTable) return;\n",
              "\n",
              "          const docLinkHtml = 'Like what you see? Visit the ' +\n",
              "            '<a target=\"_blank\" href=https://colab.research.google.com/notebooks/data_table.ipynb>data table notebook</a>'\n",
              "            + ' to learn more about interactive tables.';\n",
              "          element.innerHTML = '';\n",
              "          dataTable['output_type'] = 'display_data';\n",
              "          await google.colab.output.renderOutput(dataTable, element);\n",
              "          const docLink = document.createElement('div');\n",
              "          docLink.innerHTML = docLinkHtml;\n",
              "          element.appendChild(docLink);\n",
              "        }\n",
              "      </script>\n",
              "    </div>\n",
              "  </div>\n",
              "  "
            ],
            "text/plain": [
              "       age  gender  height  weight  ap_lo  ap_hi  cholesterol  gluc  smoke  \\\n",
              "224     59       1      76    55.0     80    105            3     2      1   \n",
              "1027    41       2     195   111.0     86    120            1     1      1   \n",
              "1117    60       2     198    68.0     80    118            1     1      1   \n",
              "2160    44       2     196    74.0     90    113            1     1      1   \n",
              "2412    61       2     138    52.0    100    115            1     1      0   \n",
              "...    ...     ...     ...     ...    ...    ...          ...   ...    ...   \n",
              "67971   59       2     195    90.0     80    120            1     1      0   \n",
              "69051   55       2     120    80.0     90    100            1     2      0   \n",
              "69123   43       2     138    60.0     79    114            1     1      0   \n",
              "69215   60       1     190    87.0     79    100            1     1      0   \n",
              "69588   50       2     192    83.0     79    100            1     1      0   \n",
              "\n",
              "       alco  active  cardio  \n",
              "224       0       1       1  \n",
              "1027      0       1       1  \n",
              "1117      0       1       1  \n",
              "2160      1       1       1  \n",
              "2412      0       1       1  \n",
              "...     ...     ...     ...  \n",
              "67971     0       0       0  \n",
              "69051     0       1       1  \n",
              "69123     0       0       0  \n",
              "69215     0       0       0  \n",
              "69588     1       0       0  \n",
              "\n",
              "[257 rows x 12 columns]"
            ]
          },
          "execution_count": 17,
          "metadata": {},
          "output_type": "execute_result"
        }
      ],
      "source": [
        "df[(df['height'] > 189) | (df['height'] < 140)]"
      ]
    },
    {
      "cell_type": "code",
      "execution_count": null,
      "metadata": {
        "id": "b2Uxpyy6uLxL"
      },
      "outputs": [],
      "source": [
        "new_df = df[(df['height'])< 189 & (df['height'] > 140)]\n"
      ]
    },
    {
      "cell_type": "code",
      "execution_count": null,
      "metadata": {
        "colab": {
          "base_uri": "https://localhost:8080/"
        },
        "id": "LKbRMO7que3C",
        "outputId": "114bd76e-002a-43bc-8490-4f5fd072f81c"
      },
      "outputs": [
        {
          "data": {
            "text/plain": [
              "(0, 12)"
            ]
          },
          "execution_count": 19,
          "metadata": {},
          "output_type": "execute_result"
        }
      ],
      "source": [
        "new_df.shape"
      ]
    },
    {
      "cell_type": "code",
      "execution_count": null,
      "metadata": {
        "id": "KSNzFJ3huqDF"
      },
      "outputs": [],
      "source": [
        "upper_limit = df['height'].mean() + 3*df['height'].std()\n",
        "lower_limit = df['height'].mean() - 3*df['height'].std()"
      ]
    },
    {
      "cell_type": "code",
      "execution_count": null,
      "metadata": {
        "colab": {
          "base_uri": "https://localhost:8080/"
        },
        "id": "nUjn9x8AvS0x",
        "outputId": "408701c4-6a38-4b02-a4d0-73822597929f"
      },
      "outputs": [
        {
          "name": "stdout",
          "output_type": "stream",
          "text": [
            "188.9896977335207\n",
            "139.72885538866677\n"
          ]
        }
      ],
      "source": [
        "print(upper_limit)\n",
        "print(lower_limit)"
      ]
    },
    {
      "cell_type": "markdown",
      "metadata": {
        "id": "3EcU7dcGvnAZ"
      },
      "source": [
        "Capping is another technique for dealing with bad data points; it is useful when we have many outliers, and removing a good amount of data from the dataset is not good. In that case, capping comes into the picture as it won’t remove them. Instead, it brings back those data points within the range we specified according to our Z-Score value."
      ]
    },
    {
      "cell_type": "code",
      "execution_count": null,
      "metadata": {
        "id": "45-MQhLetThH"
      },
      "outputs": [],
      "source": [
        "df['height'] = np.where(\n",
        "    df['height']>upper_limit,\n",
        "    upper_limit,\n",
        "    np.where(\n",
        "        df['height']<lower_limit,\n",
        "        lower_limit,\n",
        "        df['height']))"
      ]
    },
    {
      "cell_type": "code",
      "execution_count": null,
      "metadata": {
        "colab": {
          "base_uri": "https://localhost:8080/"
        },
        "id": "KBc30NuSwhl5",
        "outputId": "303601d9-7a69-4290-d69c-365925aa82fd"
      },
      "outputs": [
        {
          "name": "stdout",
          "output_type": "stream",
          "text": [
            "Highest allowed 117.39317106474186\n",
            "Lowest allowed 31.0186148179136\n"
          ]
        }
      ],
      "source": [
        "#outlier handing for weight\n",
        "print(\"Highest allowed\",df['weight'].mean() + 3*df['weight'].std())\n",
        "print(\"Lowest allowed\",df['weight'].mean() - 3*df['weight'].std())\n",
        "\n",
        "\n"
      ]
    },
    {
      "cell_type": "code",
      "execution_count": null,
      "metadata": {
        "id": "I6hzsslFxSjT"
      },
      "outputs": [],
      "source": [
        "upper_limit = df['weight'].mean() + 3*df['weight'].std()\n",
        "lower_limit = df['weight'].mean() - 3*df['weight'].std()"
      ]
    },
    {
      "cell_type": "code",
      "execution_count": null,
      "metadata": {
        "id": "nX7Mmto-whg5"
      },
      "outputs": [],
      "source": [
        "df['weight'] = np.where(\n",
        "    df['weight']>upper_limit,\n",
        "    upper_limit,\n",
        "    np.where(\n",
        "        df['weight']<lower_limit,\n",
        "        lower_limit,\n",
        "        df['weight']))\n"
      ]
    },
    {
      "cell_type": "code",
      "execution_count": null,
      "metadata": {
        "id": "HyRC8SpttTds"
      },
      "outputs": [],
      "source": [
        "# now outlier handling for ap_lo\n",
        "upper_limit = df['ap_lo'].mean() + 3*df['ap_lo'].std()\n",
        "lower_limit = df['ap_lo'].mean() - 3*df['ap_lo'].std()"
      ]
    },
    {
      "cell_type": "code",
      "execution_count": null,
      "metadata": {
        "id": "gwAVsvPKv7Ee"
      },
      "outputs": [],
      "source": [
        "df['ap_lo'] = np.where(\n",
        "    df['ap_lo']>upper_limit,\n",
        "    upper_limit,\n",
        "    np.where(\n",
        "        df['ap_lo']<lower_limit,\n",
        "        lower_limit,\n",
        "        df['ap_lo']))\n"
      ]
    },
    {
      "cell_type": "code",
      "execution_count": null,
      "metadata": {
        "id": "Z4oKpsIhtTZa"
      },
      "outputs": [],
      "source": [
        "# now outlier handling for'ap_hi'\n",
        "upper_limit = df['ap_hi'].mean() + 3*df['ap_hi'].std()\n",
        "lower_limit = df['ap_hi'].mean() - 3*df['ap_hi'].std()"
      ]
    },
    {
      "cell_type": "code",
      "execution_count": null,
      "metadata": {
        "id": "mWw_8533yNpz"
      },
      "outputs": [],
      "source": [
        "df['ap_hi'] = np.where(\n",
        "    df['ap_hi']>upper_limit,\n",
        "    upper_limit,\n",
        "    np.where(\n",
        "        df['ap_hi']<lower_limit,\n",
        "        lower_limit,\n",
        "        df['ap_hi']))\n"
      ]
    },
    {
      "cell_type": "code",
      "execution_count": null,
      "metadata": {
        "id": "6C_wkHWiyi87"
      },
      "outputs": [],
      "source": [
        "# now outlier handling for'alco '\n",
        "upper_limit = df['alco'].mean() + 3*df['alco'].std()\n",
        "lower_limit = df['alco'].mean() - 3*df['alco'].std()"
      ]
    },
    {
      "cell_type": "code",
      "execution_count": null,
      "metadata": {
        "id": "97IhjsNgylBT"
      },
      "outputs": [],
      "source": [
        "df['alco'] = np.where(\n",
        "    df['alco']>upper_limit,\n",
        "    upper_limit,\n",
        "    np.where(\n",
        "        df['alco']<lower_limit,\n",
        "        lower_limit,\n",
        "        df['alco']))\n"
      ]
    },
    {
      "cell_type": "markdown",
      "metadata": {
        "id": "chk6TOL0igv0"
      },
      "source": [
        "**Exploratory Data Analysis (EDA)**\n",
        "\n",
        "\n",
        "\n",
        "\n"
      ]
    },
    {
      "cell_type": "code",
      "execution_count": null,
      "metadata": {
        "colab": {
          "base_uri": "https://localhost:8080/"
        },
        "id": "j3Hfz7xoyzy7",
        "outputId": "62bb76b7-cb05-4bbc-91b2-1628776cd9d5"
      },
      "outputs": [
        {
          "data": {
            "text/plain": [
              "(69999, 12)"
            ]
          },
          "execution_count": 32,
          "metadata": {},
          "output_type": "execute_result"
        }
      ],
      "source": [
        "df.shape"
      ]
    },
    {
      "cell_type": "markdown",
      "metadata": {
        "id": "Kdl4cN9Ly7AB"
      },
      "source": [
        "using Capping in Outlier handing we don't loose any  information/data."
      ]
    },
    {
      "cell_type": "code",
      "execution_count": null,
      "metadata": {
        "colab": {
          "base_uri": "https://localhost:8080/"
        },
        "id": "EXbIKdk9v_ye",
        "outputId": "b8e41e72-2fa1-4158-a5cc-7d466b8b9c08"
      },
      "outputs": [
        {
          "name": "stdout",
          "output_type": "stream",
          "text": [
            "noraml patient: 34864\n",
            "heart disease/cardio patient: 35135\n"
          ]
        }
      ],
      "source": [
        "cardio=df[\"cardio\"]\n",
        "heart_disease=0\n",
        "normal=0\n",
        "for i in range (len(cardio)):\n",
        "  if cardio[i]==0:\n",
        "    normal=normal+1\n",
        "  else:\n",
        "    heart_disease=heart_disease+1\n",
        "print(\"noraml patient:\",normal)\n",
        "print(\"heart disease/cardio patient:\",heart_disease)"
      ]
    },
    {
      "cell_type": "code",
      "execution_count": null,
      "metadata": {
        "colab": {
          "base_uri": "https://localhost:8080/",
          "height": 466
        },
        "id": "_B_j8fa7iAgl",
        "outputId": "7fd60c32-ae62-4780-8e5a-2c31e4e4ab80"
      },
      "outputs": [
        {
          "data": {
            "text/plain": [
              "<Axes: xlabel='cardio', ylabel='count'>"
            ]
          },
          "execution_count": 34,
          "metadata": {},
          "output_type": "execute_result"
        },
        {
          "data": {
            "image/png": "[encoded data removed]",
            "text/plain": [
              "<Figure size 640x480 with 1 Axes>"
            ]
          },
          "metadata": {},
          "output_type": "display_data"
        }
      ],
      "source": [
        "#print graph according the diagnosis(Target) 0= Benign , 1= Maligant\n",
        "import seaborn as sns\n",
        "sns.countplot(x='cardio',data=df)"
      ]
    },
    {
      "cell_type": "code",
      "execution_count": null,
      "metadata": {
        "colab": {
          "base_uri": "https://localhost:8080/",
          "height": 1000
        },
        "id": "TB4HlCYYKPr_",
        "outputId": "25f899ed-0947-4353-d0af-0ada30f47a22"
      },
      "outputs": [
        {
          "data": {
            "text/plain": [
              "array([[<Axes: title={'center': 'age'}>,\n",
              "        <Axes: title={'center': 'gender'}>,\n",
              "        <Axes: title={'center': 'height'}>],\n",
              "       [<Axes: title={'center': 'weight'}>,\n",
              "        <Axes: title={'center': 'ap_lo'}>,\n",
              "        <Axes: title={'center': 'ap_hi'}>],\n",
              "       [<Axes: title={'center': 'cholesterol'}>,\n",
              "        <Axes: title={'center': 'gluc'}>,\n",
              "        <Axes: title={'center': 'smoke'}>],\n",
              "       [<Axes: title={'center': 'alco'}>,\n",
              "        <Axes: title={'center': 'active'}>,\n",
              "        <Axes: title={'center': 'cardio'}>]], dtype=object)"
            ]
          },
          "execution_count": 35,
          "metadata": {},
          "output_type": "execute_result"
        },
        {
          "data": {
            "image/png": "[encoded data removed]",
            "text/plain": [
              "<Figure size 2000x2000 with 12 Axes>"
            ]
          },
          "metadata": {},
          "output_type": "display_data"
        }
      ],
      "source": [
        "df.hist(figsize=(20,20))##Plot a Historgram grah"
      ]
    },
    {
      "cell_type": "code",
      "execution_count": null,
      "metadata": {
        "colab": {
          "base_uri": "https://localhost:8080/",
          "height": 524
        },
        "id": "JQzULMl1K7tJ",
        "outputId": "0a1ddb08-45cc-4e8d-daab-17da78bc9212"
      },
      "outputs": [
        {
          "data": {
            "text/plain": [
              "<Axes: >"
            ]
          },
          "execution_count": 36,
          "metadata": {},
          "output_type": "execute_result"
        },
        {
          "data": {
            "image/png": "[encoded data removed]",
            "text/plain": [
              "<Figure size 1000x500 with 1 Axes>"
            ]
          },
          "metadata": {},
          "output_type": "display_data"
        }
      ],
      "source": [
        "# feature selection using correalation\n",
        "# feature selection with the help of correlation\n",
        "df.drop('cardio',axis=1).corrwith(df.cardio).plot(kind='bar',figsize=(10,5),grid=True)"
      ]
    },
    {
      "cell_type": "code",
      "execution_count": null,
      "metadata": {
        "id": "DTNgjlnD3qXR"
      },
      "outputs": [],
      "source": [
        "#visulization of top feature related to heart_disease.\n"
      ]
    },
    {
      "cell_type": "code",
      "execution_count": null,
      "metadata": {
        "colab": {
          "base_uri": "https://localhost:8080/"
        },
        "id": "6CZeCfAZ3qSj",
        "outputId": "5261f971-7dcb-4591-9571-42d11924e89e"
      },
      "outputs": [
        {
          "name": "stdout",
          "output_type": "stream",
          "text": [
            "1784   patient age  in range(30-40) and heart disease patient:439\n",
            "25%  Patient have heart disease problem\n",
            "_____________________________________________________\n",
            "19625 patient age in range(40-50) and heart disease patient:7503\n",
            "38%  Patient have heart disease problem\n",
            "________________________________________________________\n",
            "35540  patient age in range(50-60) and heart disease patient:18429\n",
            "52% Patient have heart disease problem\n",
            "________________________________________________________\n",
            "13050  patient age in range(60-70) and heart disease patient:8764\n",
            "67% Patient have heart disease problem\n"
          ]
        }
      ],
      "source": [
        "#age\n",
        "countg=0\n",
        "tgcountg=0\n",
        "age=df[\"age\"]\n",
        "cardio=df[\"cardio\"]\n",
        "for i in range(len(df)):\n",
        "    if age[i]>=29  and age[i]<40:\n",
        "        countg=countg+1\n",
        "        if cardio[i]==1:\n",
        "            tgcountg=tgcountg+1\n",
        "    #    print(\"i\")\n",
        "\n",
        "\n",
        "print(f\"{countg}   patient age  in range(30-40) and heart disease patient:{tgcountg}\")\n",
        "p1g=(tgcountg/countg)*100\n",
        "print(f\"{round(p1g)}%  Patient have heart disease problem\")\n",
        "print(\"_____________________________________________________\")\n",
        "count1g=0\n",
        "tg1countg=0\n",
        "cardio=df[\"cardio\"]\n",
        "\n",
        "for i in range(len(df)):\n",
        "    if age[i]>=40  and age[i]<50:\n",
        "        count1g=count1g+1\n",
        "        if cardio[i]==1:\n",
        "            tg1countg=tg1countg+1\n",
        "    #    print(\"i\")\n",
        "\n",
        "\n",
        "print(f\"{count1g} patient age in range(40-50) and heart disease patient:{tg1countg}\")\n",
        "p2g=(tg1countg/count1g)*100\n",
        "print(f\"{round(p2g)}%  Patient have heart disease problem\")\n",
        "print(\"________________________________________________________\")\n",
        "count2g=0\n",
        "tg2countg=0\n",
        "for i in range(len(df)):\n",
        "    if age[i]>=50  and age[i]<60:\n",
        "        count2g=count2g+1\n",
        "        if cardio[i]==1:\n",
        "            tg2countg=tg2countg+1\n",
        "    #    print(\"i\")\n",
        "\n",
        "\n",
        "print(f\"{count2g}  patient age in range(50-60) and heart disease patient:{tg2countg}\")\n",
        "p2g=(tg2countg/count2g)*100\n",
        "print(f\"{round(p2g)}% Patient have heart disease problem\")\n",
        "print(\"________________________________________________________\")\n",
        "count3g=0\n",
        "tg3countg=0\n",
        "for i in range(len(df)):\n",
        "    if age[i]>=60  and age[i]<=70:\n",
        "        count3g=count3g+1\n",
        "        if cardio[i]==1:\n",
        "            tg3countg=tg3countg+1\n",
        "    #    print(\"i\")\n",
        "\n",
        "\n",
        "print(f\"{count3g}  patient age in range(60-70) and heart disease patient:{tg3countg}\")\n",
        "p3g=(tg3countg/count3g)*100\n",
        "print(f\"{round(p3g)}% Patient have heart disease problem\")\n",
        "\n",
        "\n",
        "\n"
      ]
    },
    {
      "cell_type": "code",
      "execution_count": null,
      "metadata": {
        "colab": {
          "base_uri": "https://localhost:8080/",
          "height": 416
        },
        "id": "fMH0eH2ZH-1I",
        "outputId": "989abe77-d958-4c7f-cf5b-87e64c79cf56"
      },
      "outputs": [
        {
          "data": {
            "image/png": "[encoded data removed]",
            "text/plain": [
              "<Figure size 600x400 with 1 Axes>"
            ]
          },
          "metadata": {},
          "output_type": "display_data"
        }
      ],
      "source": [
        "# Visulization of the featres\n",
        "import numpy as np\n",
        "import matplotlib.pyplot as plt\n",
        "\n",
        "# set width of bar\n",
        "barWidth = 0.3\n",
        "fig = plt.subplots(figsize =(6, 4))\n",
        "\n",
        "# set height of bar\n",
        "total_patient = [1784,19625,35540,13050]\n",
        "heart_patient= [439,7503,18429,8764]\n",
        "\n",
        "\n",
        "# Set position of bar on X axis\n",
        "br1 = np.arange(len(total_patient))\n",
        "br2 = [x + barWidth for x in br1]\n",
        "\n",
        "\n",
        "# Make the plot\n",
        "plt.bar(br1, total_patient, color ='y', width = barWidth,\n",
        "        edgecolor ='grey', label =' NUMBER OF PATIENT')\n",
        "plt.bar(br2, heart_patient, color ='r', width = barWidth,\n",
        "        edgecolor ='grey', label ='HEART DISEASE PATIENT')\n",
        "\n",
        "\n",
        "# Adding Xticks\n",
        "plt.xlabel('Age(Range)',  fontsize = 15)\n",
        "plt.ylabel('Patient',  fontsize = 15)\n",
        "plt.xticks([r + barWidth for r in range(len(total_patient))],\n",
        "        ['29-39','40-49','49-59','59-69'])\n",
        "plt.title(\"Analysis of Symptoms\")\n",
        "\n",
        "plt.legend()\n",
        "plt.show()\n"
      ]
    },
    {
      "cell_type": "code",
      "execution_count": null,
      "metadata": {
        "colab": {
          "base_uri": "https://localhost:8080/"
        },
        "id": "6cc8Vn2HAtrw",
        "outputId": "69c88957-effa-46ab-d41e-946fd15f542a"
      },
      "outputs": [
        {
          "name": "stdout",
          "output_type": "stream",
          "text": [
            "987   patient weight  in range(30-50) and heart disease patient:276\n",
            "28%  Patient have heart disease problem\n",
            "_____________________________________________________\n",
            "27863 patient weight in range(50-70) and heart disease patient:11722\n",
            "42%  Patient have heart disease problem\n",
            "________________________________________________________\n",
            "31465  patient weight in range(70-90) and heart disease patient:16737\n",
            "53% Patient have heart disease problem\n",
            "________________________________________________________\n",
            "9684  patient weight in range(90-118) and heart disease patient:6400\n",
            "66% Patient have heart disease problem\n"
          ]
        }
      ],
      "source": [
        "#weight\n",
        "countg=0\n",
        "tgcountg=0\n",
        "weight=df[\"weight\"]\n",
        "cardio=df[\"cardio\"]\n",
        "for i in range(len(df)):\n",
        "    if weight[i]>=30  and weight[i]<50:\n",
        "        countg=countg+1\n",
        "        if cardio[i]==1:\n",
        "            tgcountg=tgcountg+1\n",
        "    #    print(\"i\")\n",
        "\n",
        "\n",
        "print(f\"{countg}   patient weight  in range(30-50) and heart disease patient:{tgcountg}\")\n",
        "p1g=(tgcountg/countg)*100\n",
        "print(f\"{round(p1g)}%  Patient have heart disease problem\")\n",
        "print(\"_____________________________________________________\")\n",
        "count1g=0\n",
        "tg1countg=0\n",
        "cardio=df[\"cardio\"]\n",
        "\n",
        "for i in range(len(df)):\n",
        "    if weight[i]>=50 and weight[i]<70:\n",
        "        count1g=count1g+1\n",
        "        if cardio[i]==1:\n",
        "            tg1countg=tg1countg+1\n",
        "    #    print(\"i\")\n",
        "\n",
        "\n",
        "print(f\"{count1g} patient weight in range(50-70) and heart disease patient:{tg1countg}\")\n",
        "p2g=(tg1countg/count1g)*100\n",
        "print(f\"{round(p2g)}%  Patient have heart disease problem\")\n",
        "print(\"________________________________________________________\")\n",
        "count2g=0\n",
        "tg2countg=0\n",
        "for i in range(len(df)):\n",
        "    if weight[i]>=70  and weight[i]<90:\n",
        "        count2g=count2g+1\n",
        "        if cardio[i]==1:\n",
        "            tg2countg=tg2countg+1\n",
        "    #    print(\"i\")\n",
        "\n",
        "\n",
        "print(f\"{count2g}  patient weight in range(70-90) and heart disease patient:{tg2countg}\")\n",
        "p2g=(tg2countg/count2g)*100\n",
        "print(f\"{round(p2g)}% Patient have heart disease problem\")\n",
        "print(\"________________________________________________________\")\n",
        "count3g=0\n",
        "tg3countg=0\n",
        "for i in range(len(df)):\n",
        "    if weight[i]>=90  and weight[i]<=118:\n",
        "        count3g=count3g+1\n",
        "        if cardio[i]==1:\n",
        "            tg3countg=tg3countg+1\n",
        "    #    print(\"i\")\n",
        "\n",
        "\n",
        "print(f\"{count3g}  patient weight in range(90-118) and heart disease patient:{tg3countg}\")\n",
        "p3g=(tg3countg/count3g)*100\n",
        "print(f\"{round(p3g)}% Patient have heart disease problem\")\n",
        "\n",
        "\n",
        "\n"
      ]
    },
    {
      "cell_type": "code",
      "execution_count": null,
      "metadata": {
        "colab": {
          "base_uri": "https://localhost:8080/",
          "height": 416
        },
        "id": "WbAzXgaCAtjR",
        "outputId": "e74f3b5b-2560-491a-dc46-60ab8125482f"
      },
      "outputs": [
        {
          "data": {
            "image/png": "[encoded data removed]",
            "text/plain": [
              "<Figure size 600x400 with 1 Axes>"
            ]
          },
          "metadata": {},
          "output_type": "display_data"
        }
      ],
      "source": [
        "# Visulization of the featres\n",
        "import numpy as np\n",
        "import matplotlib.pyplot as plt\n",
        "\n",
        "# set width of bar\n",
        "barWidth = 0.3\n",
        "fig = plt.subplots(figsize =(6, 4))\n",
        "\n",
        "# set height of bar\n",
        "total_patient = [987,27863,31465,9684]\n",
        "heart_patient= [276,11972,16737,6400]\n",
        "\n",
        "\n",
        "# Set position of bar on X axis\n",
        "br1 = np.arange(len(total_patient))\n",
        "br2 = [x + barWidth for x in br1]\n",
        "\n",
        "\n",
        "# Make the plot\n",
        "plt.bar(br1, total_patient, color ='y', width = barWidth,\n",
        "        edgecolor ='grey', label =' NUMBER OF PATIENT')\n",
        "plt.bar(br2, heart_patient, color ='r', width = barWidth,\n",
        "        edgecolor ='grey', label ='HEART DISEASE PATIENT')\n",
        "\n",
        "\n",
        "# Adding Xticks\n",
        "plt.xlabel('Weight(Range)',  fontsize = 15)\n",
        "plt.ylabel('Patient',  fontsize = 15)\n",
        "plt.xticks([r + barWidth for r in range(len(total_patient))],\n",
        "        ['30-50','50-70','70-90','90-118'])\n",
        "plt.title(\"Analysis of Symptoms\")\n",
        "\n",
        "plt.legend()\n",
        "plt.show()\n"
      ]
    },
    {
      "cell_type": "code",
      "execution_count": null,
      "metadata": {
        "colab": {
          "base_uri": "https://localhost:8080/"
        },
        "id": "X6r_XGmyAtcv",
        "outputId": "22f88d50-79fa-4487-de30-893bd9dee9a2"
      },
      "outputs": [
        {
          "name": "stdout",
          "output_type": "stream",
          "text": [
            "801   patient ap_lo  in range(below 70) and heart disease patient:801\n",
            "100%  Patient have heart disease problem\n",
            "_____________________________________________________\n",
            "11816 patient ap_lo in range(70-79) and heart disease patient:3110\n",
            "26%  Patient have heart disease problem\n",
            "________________________________________________________\n",
            "41208  patient ap_lo in range(79-81) and heart disease patient:15051\n",
            "37% Patient have heart disease problem\n",
            "________________________________________________________\n",
            "16174  patient ap_lo in range(above 81) and heart disease patient:16173\n",
            "100% Patient have heart disease problem\n"
          ]
        }
      ],
      "source": [
        "#ap_lo\n",
        "countg=0\n",
        "tgcountg=0\n",
        "ap_lo=df[\"ap_lo\"]\n",
        "cardio=df[\"cardio\"]\n",
        "for i in range(len(df)):\n",
        "    if ap_lo[i]<70:\n",
        "        countg=countg+1\n",
        "        if cardio[i]==1:\n",
        "            tgcountg=tgcountg+1\n",
        "    #    print(\"i\")\n",
        "\n",
        "\n",
        "print(f\"{countg}   patient ap_lo  in range(below 70) and heart disease patient:{tgcountg}\")\n",
        "p1g=(tgcountg/countg)*100\n",
        "print(f\"{round(p1g)}%  Patient have heart disease problem\")\n",
        "print(\"_____________________________________________________\")\n",
        "count1g=0\n",
        "tg1countg=0\n",
        "cardio=df[\"cardio\"]\n",
        "\n",
        "for i in range(len(df)):\n",
        "    if ap_lo[i]>=70 and ap_lo[i]<79:\n",
        "        count1g=count1g+1\n",
        "        if cardio[i]==1:\n",
        "            tg1countg=tg1countg+1\n",
        "    #    print(\"i\")\n",
        "\n",
        "\n",
        "print(f\"{count1g} patient ap_lo in range(70-79) and heart disease patient:{tg1countg}\")\n",
        "p2g=(tg1countg/count1g)*100\n",
        "print(f\"{round(p2g)}%  Patient have heart disease problem\")\n",
        "print(\"________________________________________________________\")\n",
        "count2g=0\n",
        "tg2countg=0\n",
        "for i in range(len(df)):\n",
        "    if ap_lo[i]>=79  and ap_lo[i]<=81:\n",
        "        count2g=count2g+1\n",
        "        if cardio[i]==1:\n",
        "            tg2countg=tg2countg+1\n",
        "    #    print(\"i\")\n",
        "\n",
        "\n",
        "print(f\"{count2g}  patient ap_lo in range(79-81) and heart disease patient:{tg2countg}\")\n",
        "p2g=(tg2countg/count2g)*100\n",
        "print(f\"{round(p2g)}% Patient have heart disease problem\")\n",
        "print(\"________________________________________________________\")\n",
        "count3g=0\n",
        "tg3countg=0\n",
        "for i in range(len(df)):\n",
        "    if ap_lo[i]>=82:\n",
        "        count3g=count3g+1\n",
        "        if cardio[i]==1:\n",
        "            tg3countg=tg3countg+1\n",
        "    #    print(\"i\")\n",
        "\n",
        "\n",
        "print(f\"{count3g}  patient ap_lo in range(above 81) and heart disease patient:{tg3countg}\")\n",
        "p3g=(tg3countg/count3g)*100\n",
        "print(f\"{round(p3g)}% Patient have heart disease problem\")\n",
        "\n",
        "\n",
        "\n"
      ]
    },
    {
      "cell_type": "code",
      "execution_count": null,
      "metadata": {
        "colab": {
          "base_uri": "https://localhost:8080/",
          "height": 417
        },
        "id": "kmXtKz5sAtXR",
        "outputId": "0b4c9360-dd61-4b48-9efa-3920da783c2f"
      },
      "outputs": [
        {
          "data": {
            "image/png": "[encoded data removed]",
            "text/plain": [
              "<Figure size 600x400 with 1 Axes>"
            ]
          },
          "metadata": {},
          "output_type": "display_data"
        }
      ],
      "source": [
        "# Visulization of the featres\n",
        "import numpy as np\n",
        "import matplotlib.pyplot as plt\n",
        "\n",
        "# set width of bar\n",
        "barWidth = 0.3\n",
        "fig = plt.subplots(figsize =(6, 4))\n",
        "\n",
        "# set height of bar\n",
        "total_patient = [801,11816,41208,16174]\n",
        "heart_patient= [801,3110,15051,16173]\n",
        "\n",
        "\n",
        "# Set position of bar on X axis\n",
        "br1 = np.arange(len(total_patient))\n",
        "br2 = [x + barWidth for x in br1]\n",
        "\n",
        "\n",
        "# Make the plot\n",
        "plt.bar(br1, total_patient, color ='y', width = barWidth,\n",
        "        edgecolor ='grey', label =' NUMBER OF PATIENT')\n",
        "plt.bar(br2, heart_patient, color ='r', width = barWidth,\n",
        "        edgecolor ='grey', label ='HEART DISEASE PATIENT')\n",
        "\n",
        "\n",
        "# Adding Xticks\n",
        "plt.xlabel('ap_lo(Range)',  fontsize = 15)\n",
        "plt.ylabel('Patient',  fontsize = 15)\n",
        "plt.xticks([r + barWidth for r in range(len(total_patient))],\n",
        "        ['below 70','70-79','79-81','above 81'])\n",
        "plt.title(\"Analysis of Symptoms\")\n",
        "\n",
        "plt.legend()\n",
        "plt.show()\n"
      ]
    },
    {
      "cell_type": "code",
      "execution_count": null,
      "metadata": {
        "colab": {
          "base_uri": "https://localhost:8080/"
        },
        "id": "6rYhNVsgLI8A",
        "outputId": "d8431987-4450-4182-ee1a-da0d13e878aa"
      },
      "outputs": [
        {
          "name": "stdout",
          "output_type": "stream",
          "text": [
            "52139   patient cholesterol  in Normal range and heart disease patient:22938\n",
            "44%  Patient have heart disease problem\n",
            "_____________________________________________________\n",
            "9499 patient cholesterol in above normal range and heart disease patient:5726\n",
            "60%  Patient have heart disease problem\n",
            "________________________________________________________\n",
            "8361  patient cholesterol in well above normal range and heart disease patient:6471\n",
            "77% Patient have heart disease problem\n"
          ]
        }
      ],
      "source": [
        " #1: normal, 2: above normal, 3: well above normal\n",
        "#cholesterol\n",
        "countg=0\n",
        "tgcountg=0\n",
        "cholesterol=df[\"cholesterol\"]\n",
        "cardio=df[\"cardio\"]\n",
        "for i in range(len(df)):\n",
        "    if cholesterol[i]==1:\n",
        "        countg=countg+1\n",
        "        if cardio[i]==1:\n",
        "            tgcountg=tgcountg+1\n",
        "    #    print(\"i\")\n",
        "\n",
        "\n",
        "print(f\"{countg}   patient cholesterol  in Normal range and heart disease patient:{tgcountg}\")\n",
        "p1g=(tgcountg/countg)*100\n",
        "print(f\"{round(p1g)}%  Patient have heart disease problem\")\n",
        "print(\"_____________________________________________________\")\n",
        "count1g=0\n",
        "tg1countg=0\n",
        "cardio=df[\"cardio\"]\n",
        "\n",
        "for i in range(len(df)):\n",
        "    if cholesterol[i]==2:\n",
        "        count1g=count1g+1\n",
        "        if cardio[i]==1:\n",
        "            tg1countg=tg1countg+1\n",
        "    #    print(\"i\")\n",
        "\n",
        "\n",
        "print(f\"{count1g} patient cholesterol in above normal range and heart disease patient:{tg1countg}\")\n",
        "p2g=(tg1countg/count1g)*100\n",
        "print(f\"{round(p2g)}%  Patient have heart disease problem\")\n",
        "print(\"________________________________________________________\")\n",
        "count2g=0\n",
        "tg2countg=0\n",
        "for i in range(len(df)):\n",
        "    if cholesterol[i]==3:\n",
        "        count2g=count2g+1\n",
        "        if cardio[i]==1:\n",
        "            tg2countg=tg2countg+1\n",
        "    #    print(\"i\")\n",
        "\n",
        "\n",
        "print(f\"{count2g}  patient cholesterol in well above normal range and heart disease patient:{tg2countg}\")\n",
        "p2g=(tg2countg/count2g)*100\n",
        "print(f\"{round(p2g)}% Patient have heart disease problem\")\n",
        "\n",
        "\n"
      ]
    },
    {
      "cell_type": "code",
      "execution_count": null,
      "metadata": {
        "colab": {
          "base_uri": "https://localhost:8080/",
          "height": 416
        },
        "id": "T4BQtR84LIy4",
        "outputId": "ee0dd1e6-46b5-4276-c52c-13cd9b83fcf9"
      },
      "outputs": [
        {
          "data": {
            "image/png": "[encoded data removed]",
            "text/plain": [
              "<Figure size 600x400 with 1 Axes>"
            ]
          },
          "metadata": {},
          "output_type": "display_data"
        }
      ],
      "source": [
        "# Visulization of the featres\n",
        "import numpy as np\n",
        "import matplotlib.pyplot as plt\n",
        "\n",
        "# set width of bar\n",
        "barWidth = 0.3\n",
        "fig = plt.subplots(figsize =(6, 4))\n",
        "\n",
        "# set height of bar\n",
        "total_patient = [52139,9499,8361]\n",
        "heart_patient= [22938,5726,6471]\n",
        "\n",
        "\n",
        "# Set position of bar on X axis\n",
        "br1 = np.arange(len(total_patient))\n",
        "br2 = [x + barWidth for x in br1]\n",
        "\n",
        "\n",
        "# Make the plot\n",
        "plt.bar(br1, total_patient, color ='y', width = barWidth,\n",
        "        edgecolor ='grey', label =' NUMBER OF PATIENT')\n",
        "plt.bar(br2, heart_patient, color ='r', width = barWidth,\n",
        "        edgecolor ='grey', label ='HEART DISEASE PATIENT')\n",
        "\n",
        "\n",
        "# Adding Xticks\n",
        "plt.xlabel('cholesterol(Range)',  fontsize = 15)\n",
        "plt.ylabel('Patient',  fontsize = 15)\n",
        "plt.xticks([r + barWidth for r in range(len(total_patient))],\n",
        "        ['Normal range','Above Normal range','Well above normal range'])\n",
        "plt.title(\"Analysis of Symptoms\")\n",
        "\n",
        "plt.legend()\n",
        "plt.show()\n"
      ]
    },
    {
      "cell_type": "code",
      "execution_count": null,
      "metadata": {
        "colab": {
          "base_uri": "https://localhost:8080/"
        },
        "id": "5xYdiLyKAtUp",
        "outputId": "97160f54-73de-40aa-c954-198d495074c6"
      },
      "outputs": [
        {
          "name": "stdout",
          "output_type": "stream",
          "text": [
            "54657   patient gluc  in Normal range and heart disease patient:29588\n",
            "54%  Patient have heart disease problem\n",
            "_____________________________________________________\n",
            "4276 patient gluc in above normal range and heart disease patient:2596\n",
            "61%  Patient have heart disease problem\n",
            "________________________________________________________\n",
            "4603  patient gluc in well above normal range and heart disease patient:2951\n",
            "64% Patient have heart disease problem\n"
          ]
        }
      ],
      "source": [
        "# 1: normal, 2: above normal, 3: well above normal\n",
        "#gluc\n",
        "countg=0\n",
        "tgcountg=0\n",
        "gluc=df[\"gluc\"]\n",
        "cardio=df[\"cardio\"]\n",
        "for i in range(len(df)):\n",
        "    if gluc[i]==1:\n",
        "        countg=countg+1\n",
        "        if cardio[i]==1:\n",
        "            tgcountg=tgcountg+1\n",
        "    #    print(\"i\")\n",
        "\n",
        "\n",
        "print(f\"{countg}   patient gluc  in Normal range and heart disease patient:{tgcountg}\")\n",
        "p1g=(tgcountg/countg)*100\n",
        "print(f\"{round(p1g)}%  Patient have heart disease problem\")\n",
        "print(\"_____________________________________________________\")\n",
        "count1g=0\n",
        "tg1countg=0\n",
        "cardio=df[\"cardio\"]\n",
        "\n",
        "for i in range(len(df)):\n",
        "    if gluc[i]==2:\n",
        "        count1g=count1g+1\n",
        "        if cardio[i]==1:\n",
        "            tg1countg=tg1countg+1\n",
        "    #    print(\"i\")\n",
        "\n",
        "\n",
        "print(f\"{count1g} patient gluc in above normal range and heart disease patient:{tg1countg}\")\n",
        "p2g=(tg1countg/count1g)*100\n",
        "print(f\"{round(p2g)}%  Patient have heart disease problem\")\n",
        "print(\"________________________________________________________\")\n",
        "count2g=0\n",
        "tg2countg=0\n",
        "for i in range(len(df)):\n",
        "    if gluc[i]==3:\n",
        "        count2g=count2g+1\n",
        "        if cardio[i]==1:\n",
        "            tg2countg=tg2countg+1\n",
        "    #    print(\"i\")\n",
        "\n",
        "\n",
        "print(f\"{count2g}  patient gluc in well above normal range and heart disease patient:{tg2countg}\")\n",
        "p2g=(tg2countg/count2g)*100\n",
        "print(f\"{round(p2g)}% Patient have heart disease problem\")\n",
        "\n",
        "\n"
      ]
    },
    {
      "cell_type": "code",
      "execution_count": null,
      "metadata": {
        "colab": {
          "base_uri": "https://localhost:8080/",
          "height": 416
        },
        "id": "eU4TwiEcAtSA",
        "outputId": "de83d7d7-8c3d-42a2-b1e3-3a8ec661c9cb"
      },
      "outputs": [
        {
          "data": {
            "image/png": "[encoded data removed]",
            "text/plain": [
              "<Figure size 600x400 with 1 Axes>"
            ]
          },
          "metadata": {},
          "output_type": "display_data"
        }
      ],
      "source": [
        "# Visulization of the featres\n",
        "import numpy as np\n",
        "import matplotlib.pyplot as plt\n",
        "\n",
        "# set width of bar\n",
        "barWidth = 0.3\n",
        "fig = plt.subplots(figsize =(6, 4))\n",
        "\n",
        "# set height of bar\n",
        "total_patient = [54657,4276,4603]\n",
        "heart_patient= [29588,2596,2951]\n",
        "\n",
        "\n",
        "# Set position of bar on X axis\n",
        "br1 = np.arange(len(total_patient))\n",
        "br2 = [x + barWidth for x in br1]\n",
        "\n",
        "\n",
        "# Make the plot\n",
        "plt.bar(br1, total_patient, color ='y', width = barWidth,\n",
        "        edgecolor ='grey', label =' NUMBER OF PATIENT')\n",
        "plt.bar(br2, heart_patient, color ='r', width = barWidth,\n",
        "        edgecolor ='grey', label ='HEART DISEASE PATIENT')\n",
        "\n",
        "\n",
        "# Adding Xticks\n",
        "plt.xlabel('gluc(Range)',  fontsize = 15)\n",
        "plt.ylabel('Patient',  fontsize = 15)\n",
        "plt.xticks([r + barWidth for r in range(len(total_patient))],\n",
        "        ['Normal range','Above Normal range','Well above normal range'])\n",
        "plt.title(\"Analysis of Symptoms\")\n",
        "\n",
        "plt.legend()\n",
        "plt.show()\n"
      ]
    },
    {
      "cell_type": "code",
      "execution_count": null,
      "metadata": {
        "colab": {
          "base_uri": "https://localhost:8080/"
        },
        "id": "TC4ZyhcqOqyp",
        "outputId": "4fcfe49e-cc04-4649-b7f0-101faac23440"
      },
      "outputs": [
        {
          "name": "stdout",
          "output_type": "stream",
          "text": [
            "16798   patient  those  smoke  and heart disease patient:14723\n",
            "88%  Patient have heart disease problem\n",
            "_____________________________________________________\n",
            "53201 patient  those not smoke  and heart disease patient:20412\n",
            "38%  Patient have heart disease problem\n"
          ]
        }
      ],
      "source": [
        "\n",
        "#smoke\n",
        "countg=0\n",
        "tgcountg=0\n",
        "smoke=df[\"smoke\"]\n",
        "cardio=df[\"cardio\"]\n",
        "for i in range(len(df)):\n",
        "    if smoke[i]==1:\n",
        "        countg=countg+1\n",
        "        if cardio[i]==1:\n",
        "            tgcountg=tgcountg+1\n",
        "    #    print(\"i\")\n",
        "\n",
        "\n",
        "print(f\"{countg}   patient  those  smoke  and heart disease patient:{tgcountg}\")\n",
        "p1g=(tgcountg/countg)*100\n",
        "print(f\"{round(p1g)}%  Patient have heart disease problem\")\n",
        "print(\"_____________________________________________________\")\n",
        "count1g=0\n",
        "tg1countg=0\n",
        "cardio=df[\"cardio\"]\n",
        "\n",
        "for i in range(len(df)):\n",
        "    if smoke[i]==0:\n",
        "        count1g=count1g+1\n",
        "        if cardio[i]==1:\n",
        "            tg1countg=tg1countg+1\n",
        "    #    print(\"i\")\n",
        "\n",
        "\n",
        "print(f\"{count1g} patient  those not smoke  and heart disease patient:{tg1countg}\")\n",
        "p2g=(tg1countg/count1g)*100\n",
        "print(f\"{round(p2g)}%  Patient have heart disease problem\")\n",
        "\n",
        "\n"
      ]
    },
    {
      "cell_type": "code",
      "execution_count": null,
      "metadata": {
        "colab": {
          "base_uri": "https://localhost:8080/",
          "height": 416
        },
        "id": "UoMN6cUgOquC",
        "outputId": "bd96bc8d-44f1-41e6-c177-bded6316c059"
      },
      "outputs": [
        {
          "data": {
            "image/png": "[encoded data removed]",
            "text/plain": [
              "<Figure size 600x400 with 1 Axes>"
            ]
          },
          "metadata": {},
          "output_type": "display_data"
        }
      ],
      "source": [
        "# Visulization of the featres\n",
        "import numpy as np\n",
        "import matplotlib.pyplot as plt\n",
        "\n",
        "# set width of bar\n",
        "barWidth = 0.3\n",
        "fig = plt.subplots(figsize =(6, 4))\n",
        "\n",
        "# set height of bar\n",
        "total_patient = [16798,53201]\n",
        "heart_patient= [14723,20412]\n",
        "\n",
        "\n",
        "# Set position of bar on X axis\n",
        "br1 = np.arange(len(total_patient))\n",
        "br2 = [x + barWidth for x in br1]\n",
        "\n",
        "\n",
        "# Make the plot\n",
        "plt.bar(br1, total_patient, color ='y', width = barWidth,\n",
        "        edgecolor ='grey', label =' NUMBER OF PATIENT')\n",
        "plt.bar(br2, heart_patient, color ='r', width = barWidth,\n",
        "        edgecolor ='grey', label ='HEART DISEASE PATIENT')\n",
        "\n",
        "\n",
        "# Adding Xticks\n",
        "plt.xlabel('smoke(Range)',  fontsize = 15)\n",
        "plt.ylabel('Patient',  fontsize = 15)\n",
        "plt.xticks([r + barWidth for r in range(len(total_patient))],\n",
        "        ['Smoker','Non-smoker'])\n",
        "plt.title(\"Analysis of Symptoms\")\n",
        "\n",
        "plt.legend()\n",
        "plt.show()\n"
      ]
    },
    {
      "cell_type": "code",
      "execution_count": null,
      "metadata": {
        "colab": {
          "base_uri": "https://localhost:8080/"
        },
        "id": "cdwtbmK1OqRc",
        "outputId": "8d399ffe-4fd9-416e-afd9-8fa8ca69540a"
      },
      "outputs": [
        {
          "data": {
            "text/plain": [
              "Index(['age', 'gender', 'height', 'weight', 'ap_lo', 'ap_hi', 'cholesterol',\n",
              "       'gluc', 'smoke', 'alco', 'active', 'cardio'],\n",
              "      dtype='object')"
            ]
          },
          "execution_count": 50,
          "metadata": {},
          "output_type": "execute_result"
        }
      ],
      "source": [
        "df.columns"
      ]
    },
    {
      "cell_type": "code",
      "execution_count": null,
      "metadata": {
        "colab": {
          "base_uri": "https://localhost:8080/",
          "height": 424
        },
        "id": "pes-EuriOqMT",
        "outputId": "0da84bf3-0f4b-4986-eca2-36e697bef7ea"
      },
      "outputs": [
        {
          "data": {
            "text/html": [
              "\n",
              "  <div id=\"df-07495a8f-606d-4c20-a783-02f389702fbb\">\n",
              "    <div class=\"colab-df-container\">\n",
              "      <div>\n",
              "<style scoped>\n",
              "    .dataframe tbody tr th:only-of-type {\n",
              "        vertical-align: middle;\n",
              "    }\n",
              "\n",
              "    .dataframe tbody tr th {\n",
              "        vertical-align: top;\n",
              "    }\n",
              "\n",
              "    .dataframe thead th {\n",
              "        text-align: right;\n",
              "    }\n",
              "</style>\n",
              "<table border=\"1\" class=\"dataframe\">\n",
              "  <thead>\n",
              "    <tr style=\"text-align: right;\">\n",
              "      <th></th>\n",
              "      <th>age</th>\n",
              "      <th>weight</th>\n",
              "      <th>ap_lo</th>\n",
              "      <th>cholesterol</th>\n",
              "      <th>gluc</th>\n",
              "      <th>smoke</th>\n",
              "    </tr>\n",
              "  </thead>\n",
              "  <tbody>\n",
              "    <tr>\n",
              "      <th>0</th>\n",
              "      <td>50</td>\n",
              "      <td>62.000000</td>\n",
              "      <td>78.0</td>\n",
              "      <td>1</td>\n",
              "      <td>1</td>\n",
              "      <td>0</td>\n",
              "    </tr>\n",
              "    <tr>\n",
              "      <th>1</th>\n",
              "      <td>55</td>\n",
              "      <td>85.000000</td>\n",
              "      <td>90.0</td>\n",
              "      <td>3</td>\n",
              "      <td>1</td>\n",
              "      <td>1</td>\n",
              "    </tr>\n",
              "    <tr>\n",
              "      <th>2</th>\n",
              "      <td>51</td>\n",
              "      <td>64.000000</td>\n",
              "      <td>70.0</td>\n",
              "      <td>3</td>\n",
              "      <td>1</td>\n",
              "      <td>1</td>\n",
              "    </tr>\n",
              "    <tr>\n",
              "      <th>3</th>\n",
              "      <td>48</td>\n",
              "      <td>82.000000</td>\n",
              "      <td>100.0</td>\n",
              "      <td>3</td>\n",
              "      <td>1</td>\n",
              "      <td>1</td>\n",
              "    </tr>\n",
              "    <tr>\n",
              "      <th>4</th>\n",
              "      <td>47</td>\n",
              "      <td>56.000000</td>\n",
              "      <td>60.0</td>\n",
              "      <td>3</td>\n",
              "      <td>1</td>\n",
              "      <td>1</td>\n",
              "    </tr>\n",
              "    <tr>\n",
              "      <th>...</th>\n",
              "      <td>...</td>\n",
              "      <td>...</td>\n",
              "      <td>...</td>\n",
              "      <td>...</td>\n",
              "      <td>...</td>\n",
              "      <td>...</td>\n",
              "    </tr>\n",
              "    <tr>\n",
              "      <th>69994</th>\n",
              "      <td>52</td>\n",
              "      <td>76.000000</td>\n",
              "      <td>78.0</td>\n",
              "      <td>1</td>\n",
              "      <td>1</td>\n",
              "      <td>1</td>\n",
              "    </tr>\n",
              "    <tr>\n",
              "      <th>69995</th>\n",
              "      <td>61</td>\n",
              "      <td>117.393171</td>\n",
              "      <td>90.0</td>\n",
              "      <td>2</td>\n",
              "      <td>2</td>\n",
              "      <td>0</td>\n",
              "    </tr>\n",
              "    <tr>\n",
              "      <th>69996</th>\n",
              "      <td>52</td>\n",
              "      <td>105.000000</td>\n",
              "      <td>90.0</td>\n",
              "      <td>3</td>\n",
              "      <td>1</td>\n",
              "      <td>0</td>\n",
              "    </tr>\n",
              "    <tr>\n",
              "      <th>69997</th>\n",
              "      <td>61</td>\n",
              "      <td>72.000000</td>\n",
              "      <td>80.0</td>\n",
              "      <td>1</td>\n",
              "      <td>2</td>\n",
              "      <td>0</td>\n",
              "    </tr>\n",
              "    <tr>\n",
              "      <th>69998</th>\n",
              "      <td>56</td>\n",
              "      <td>72.000000</td>\n",
              "      <td>80.0</td>\n",
              "      <td>2</td>\n",
              "      <td>1</td>\n",
              "      <td>0</td>\n",
              "    </tr>\n",
              "  </tbody>\n",
              "</table>\n",
              "<p>69999 rows × 6 columns</p>\n",
              "</div>\n",
              "      <button class=\"colab-df-convert\" onclick=\"convertToInteractive('df-07495a8f-606d-4c20-a783-02f389702fbb')\"\n",
              "              title=\"Convert this dataframe to an interactive table.\"\n",
              "              style=\"display:none;\">\n",
              "        \n",
              "  <svg xmlns=\"http://www.w3.org/2000/svg\" height=\"24px\"viewBox=\"0 0 24 24\"\n",
              "       width=\"24px\">\n",
              "    <path d=\"M0 0h24v24H0V0z\" fill=\"none\"/>\n",
              "    <path d=\"M18.56 5.44l.94 2.06.94-2.06 2.06-.94-2.06-.94-.94-2.06-.94 2.06-2.06.94zm-11 1L8.5 8.5l.94-2.06 2.06-.94-2.06-.94L8.5 2.5l-.94 2.06-2.06.94zm10 10l.94 2.06.94-2.06 2.06-.94-2.06-.94-.94-2.06-.94 2.06-2.06.94z\"/><path d=\"M17.41 7.96l-1.37-1.37c-.4-.4-.92-.59-1.43-.59-.52 0-1.04.2-1.43.59L10.3 9.45l-7.72 7.72c-.78.78-.78 2.05 0 2.83L4 21.41c.39.39.9.59 1.41.59.51 0 1.02-.2 1.41-.59l7.78-7.78 2.81-2.81c.8-.78.8-2.07 0-2.86zM5.41 20L4 18.59l7.72-7.72 1.47 1.35L5.41 20z\"/>\n",
              "  </svg>\n",
              "      </button>\n",
              "      \n",
              "  <style>\n",
              "    .colab-df-container {\n",
              "      display:flex;\n",
              "      flex-wrap:wrap;\n",
              "      gap: 12px;\n",
              "    }\n",
              "\n",
              "    .colab-df-convert {\n",
              "      background-color: #E8F0FE;\n",
              "      border: none;\n",
              "      border-radius: 50%;\n",
              "      cursor: pointer;\n",
              "      display: none;\n",
              "      fill: #1967D2;\n",
              "      height: 32px;\n",
              "      padding: 0 0 0 0;\n",
              "      width: 32px;\n",
              "    }\n",
              "\n",
              "    .colab-df-convert:hover {\n",
              "      background-color: #E2EBFA;\n",
              "      box-shadow: 0px 1px 2px rgba(60, 64, 67, 0.3), 0px 1px 3px 1px rgba(60, 64, 67, 0.15);\n",
              "      fill: #174EA6;\n",
              "    }\n",
              "\n",
              "    [theme=dark] .colab-df-convert {\n",
              "      background-color: #3B4455;\n",
              "      fill: #D2E3FC;\n",
              "    }\n",
              "\n",
              "    [theme=dark] .colab-df-convert:hover {\n",
              "      background-color: #434B5C;\n",
              "      box-shadow: 0px 1px 3px 1px rgba(0, 0, 0, 0.15);\n",
              "      filter: drop-shadow(0px 1px 2px rgba(0, 0, 0, 0.3));\n",
              "      fill: #FFFFFF;\n",
              "    }\n",
              "  </style>\n",
              "\n",
              "      <script>\n",
              "        const buttonEl =\n",
              "          document.querySelector('#df-07495a8f-606d-4c20-a783-02f389702fbb button.colab-df-convert');\n",
              "        buttonEl.style.display =\n",
              "          google.colab.kernel.accessAllowed ? 'block' : 'none';\n",
              "\n",
              "        async function convertToInteractive(key) {\n",
              "          const element = document.querySelector('#df-07495a8f-606d-4c20-a783-02f389702fbb');\n",
              "          const dataTable =\n",
              "            await google.colab.kernel.invokeFunction('convertToInteractive',\n",
              "                                                     [key], {});\n",
              "          if (!dataTable) return;\n",
              "\n",
              "          const docLinkHtml = 'Like what you see? Visit the ' +\n",
              "            '<a target=\"_blank\" href=https://colab.research.google.com/notebooks/data_table.ipynb>data table notebook</a>'\n",
              "            + ' to learn more about interactive tables.';\n",
              "          element.innerHTML = '';\n",
              "          dataTable['output_type'] = 'display_data';\n",
              "          await google.colab.output.renderOutput(dataTable, element);\n",
              "          const docLink = document.createElement('div');\n",
              "          docLink.innerHTML = docLinkHtml;\n",
              "          element.appendChild(docLink);\n",
              "        }\n",
              "      </script>\n",
              "    </div>\n",
              "  </div>\n",
              "  "
            ],
            "text/plain": [
              "       age      weight  ap_lo  cholesterol  gluc  smoke\n",
              "0       50   62.000000   78.0            1     1      0\n",
              "1       55   85.000000   90.0            3     1      1\n",
              "2       51   64.000000   70.0            3     1      1\n",
              "3       48   82.000000  100.0            3     1      1\n",
              "4       47   56.000000   60.0            3     1      1\n",
              "...    ...         ...    ...          ...   ...    ...\n",
              "69994   52   76.000000   78.0            1     1      1\n",
              "69995   61  117.393171   90.0            2     2      0\n",
              "69996   52  105.000000   90.0            3     1      0\n",
              "69997   61   72.000000   80.0            1     2      0\n",
              "69998   56   72.000000   80.0            2     1      0\n",
              "\n",
              "[69999 rows x 6 columns]"
            ]
          },
          "execution_count": 51,
          "metadata": {},
          "output_type": "execute_result"
        }
      ],
      "source": [
        "x=df.drop([ 'gender', 'height','ap_hi', 'alco', 'active', 'cardio'],axis=1)\n",
        "x"
      ]
    },
    {
      "cell_type": "code",
      "execution_count": null,
      "metadata": {
        "colab": {
          "base_uri": "https://localhost:8080/",
          "height": 424
        },
        "id": "2BzMITgF0alp",
        "outputId": "4ce1a667-c65f-4757-daa3-a577d890e2ed"
      },
      "outputs": [
        {
          "data": {
            "text/html": [
              "\n",
              "  <div id=\"df-5880061c-350c-4c40-ad16-ae31151a733a\">\n",
              "    <div class=\"colab-df-container\">\n",
              "      <div>\n",
              "<style scoped>\n",
              "    .dataframe tbody tr th:only-of-type {\n",
              "        vertical-align: middle;\n",
              "    }\n",
              "\n",
              "    .dataframe tbody tr th {\n",
              "        vertical-align: top;\n",
              "    }\n",
              "\n",
              "    .dataframe thead th {\n",
              "        text-align: right;\n",
              "    }\n",
              "</style>\n",
              "<table border=\"1\" class=\"dataframe\">\n",
              "  <thead>\n",
              "    <tr style=\"text-align: right;\">\n",
              "      <th></th>\n",
              "      <th>cardio</th>\n",
              "    </tr>\n",
              "  </thead>\n",
              "  <tbody>\n",
              "    <tr>\n",
              "      <th>0</th>\n",
              "      <td>0</td>\n",
              "    </tr>\n",
              "    <tr>\n",
              "      <th>1</th>\n",
              "      <td>1</td>\n",
              "    </tr>\n",
              "    <tr>\n",
              "      <th>2</th>\n",
              "      <td>1</td>\n",
              "    </tr>\n",
              "    <tr>\n",
              "      <th>3</th>\n",
              "      <td>1</td>\n",
              "    </tr>\n",
              "    <tr>\n",
              "      <th>4</th>\n",
              "      <td>1</td>\n",
              "    </tr>\n",
              "    <tr>\n",
              "      <th>...</th>\n",
              "      <td>...</td>\n",
              "    </tr>\n",
              "    <tr>\n",
              "      <th>69994</th>\n",
              "      <td>0</td>\n",
              "    </tr>\n",
              "    <tr>\n",
              "      <th>69995</th>\n",
              "      <td>1</td>\n",
              "    </tr>\n",
              "    <tr>\n",
              "      <th>69996</th>\n",
              "      <td>1</td>\n",
              "    </tr>\n",
              "    <tr>\n",
              "      <th>69997</th>\n",
              "      <td>1</td>\n",
              "    </tr>\n",
              "    <tr>\n",
              "      <th>69998</th>\n",
              "      <td>0</td>\n",
              "    </tr>\n",
              "  </tbody>\n",
              "</table>\n",
              "<p>69999 rows × 1 columns</p>\n",
              "</div>\n",
              "      <button class=\"colab-df-convert\" onclick=\"convertToInteractive('df-5880061c-350c-4c40-ad16-ae31151a733a')\"\n",
              "              title=\"Convert this dataframe to an interactive table.\"\n",
              "              style=\"display:none;\">\n",
              "        \n",
              "  <svg xmlns=\"http://www.w3.org/2000/svg\" height=\"24px\"viewBox=\"0 0 24 24\"\n",
              "       width=\"24px\">\n",
              "    <path d=\"M0 0h24v24H0V0z\" fill=\"none\"/>\n",
              "    <path d=\"M18.56 5.44l.94 2.06.94-2.06 2.06-.94-2.06-.94-.94-2.06-.94 2.06-2.06.94zm-11 1L8.5 8.5l.94-2.06 2.06-.94-2.06-.94L8.5 2.5l-.94 2.06-2.06.94zm10 10l.94 2.06.94-2.06 2.06-.94-2.06-.94-.94-2.06-.94 2.06-2.06.94z\"/><path d=\"M17.41 7.96l-1.37-1.37c-.4-.4-.92-.59-1.43-.59-.52 0-1.04.2-1.43.59L10.3 9.45l-7.72 7.72c-.78.78-.78 2.05 0 2.83L4 21.41c.39.39.9.59 1.41.59.51 0 1.02-.2 1.41-.59l7.78-7.78 2.81-2.81c.8-.78.8-2.07 0-2.86zM5.41 20L4 18.59l7.72-7.72 1.47 1.35L5.41 20z\"/>\n",
              "  </svg>\n",
              "      </button>\n",
              "      \n",
              "  <style>\n",
              "    .colab-df-container {\n",
              "      display:flex;\n",
              "      flex-wrap:wrap;\n",
              "      gap: 12px;\n",
              "    }\n",
              "\n",
              "    .colab-df-convert {\n",
              "      background-color: #E8F0FE;\n",
              "      border: none;\n",
              "      border-radius: 50%;\n",
              "      cursor: pointer;\n",
              "      display: none;\n",
              "      fill: #1967D2;\n",
              "      height: 32px;\n",
              "      padding: 0 0 0 0;\n",
              "      width: 32px;\n",
              "    }\n",
              "\n",
              "    .colab-df-convert:hover {\n",
              "      background-color: #E2EBFA;\n",
              "      box-shadow: 0px 1px 2px rgba(60, 64, 67, 0.3), 0px 1px 3px 1px rgba(60, 64, 67, 0.15);\n",
              "      fill: #174EA6;\n",
              "    }\n",
              "\n",
              "    [theme=dark] .colab-df-convert {\n",
              "      background-color: #3B4455;\n",
              "      fill: #D2E3FC;\n",
              "    }\n",
              "\n",
              "    [theme=dark] .colab-df-convert:hover {\n",
              "      background-color: #434B5C;\n",
              "      box-shadow: 0px 1px 3px 1px rgba(0, 0, 0, 0.15);\n",
              "      filter: drop-shadow(0px 1px 2px rgba(0, 0, 0, 0.3));\n",
              "      fill: #FFFFFF;\n",
              "    }\n",
              "  </style>\n",
              "\n",
              "      <script>\n",
              "        const buttonEl =\n",
              "          document.querySelector('#df-5880061c-350c-4c40-ad16-ae31151a733a button.colab-df-convert');\n",
              "        buttonEl.style.display =\n",
              "          google.colab.kernel.accessAllowed ? 'block' : 'none';\n",
              "\n",
              "        async function convertToInteractive(key) {\n",
              "          const element = document.querySelector('#df-5880061c-350c-4c40-ad16-ae31151a733a');\n",
              "          const dataTable =\n",
              "            await google.colab.kernel.invokeFunction('convertToInteractive',\n",
              "                                                     [key], {});\n",
              "          if (!dataTable) return;\n",
              "\n",
              "          const docLinkHtml = 'Like what you see? Visit the ' +\n",
              "            '<a target=\"_blank\" href=https://colab.research.google.com/notebooks/data_table.ipynb>data table notebook</a>'\n",
              "            + ' to learn more about interactive tables.';\n",
              "          element.innerHTML = '';\n",
              "          dataTable['output_type'] = 'display_data';\n",
              "          await google.colab.output.renderOutput(dataTable, element);\n",
              "          const docLink = document.createElement('div');\n",
              "          docLink.innerHTML = docLinkHtml;\n",
              "          element.appendChild(docLink);\n",
              "        }\n",
              "      </script>\n",
              "    </div>\n",
              "  </div>\n",
              "  "
            ],
            "text/plain": [
              "       cardio\n",
              "0           0\n",
              "1           1\n",
              "2           1\n",
              "3           1\n",
              "4           1\n",
              "...       ...\n",
              "69994       0\n",
              "69995       1\n",
              "69996       1\n",
              "69997       1\n",
              "69998       0\n",
              "\n",
              "[69999 rows x 1 columns]"
            ]
          },
          "execution_count": 52,
          "metadata": {},
          "output_type": "execute_result"
        }
      ],
      "source": [
        "y=df.iloc[:,11:]\n",
        "y"
      ]
    }
  ],
  "metadata": {
    "colab": {
      "provenance": []
    },
    "kernelspec": {
      "display_name": "Python 3",
      "name": "python3"
    },
    "language_info": {
      "name": "python"
    }
  },
  "nbformat": 4,
  "nbformat_minor": 0
}